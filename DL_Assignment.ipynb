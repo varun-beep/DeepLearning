{
  "nbformat": 4,
  "nbformat_minor": 0,
  "metadata": {
    "colab": {
      "provenance": [],
      "authorship_tag": "ABX9TyPIdODqrMFqnP8oQUUoYd4L",
      "include_colab_link": true
    },
    "kernelspec": {
      "name": "python3",
      "display_name": "Python 3"
    },
    "language_info": {
      "name": "python"
    }
  },
  "cells": [
    {
      "cell_type": "markdown",
      "metadata": {
        "id": "view-in-github",
        "colab_type": "text"
      },
      "source": [
        "<a href=\"https://colab.research.google.com/github/varun-beep/DeepLearning/blob/main/DL_Assignment.ipynb\" target=\"_parent\"><img src=\"https://colab.research.google.com/assets/colab-badge.svg\" alt=\"Open In Colab\"/></a>"
      ]
    },
    {
      "cell_type": "code",
      "source": [
        "!pip install tensorflow-addons\n"
      ],
      "metadata": {
        "colab": {
          "base_uri": "https://localhost:8080/"
        },
        "id": "ulLkoNB3qqmp",
        "outputId": "be410b4e-da8c-4e25-a46a-8968f136e7a1"
      },
      "execution_count": 38,
      "outputs": [
        {
          "output_type": "stream",
          "name": "stdout",
          "text": [
            "Requirement already satisfied: tensorflow-addons in /usr/local/lib/python3.11/dist-packages (0.23.0)\n",
            "Requirement already satisfied: packaging in /usr/local/lib/python3.11/dist-packages (from tensorflow-addons) (24.2)\n",
            "Requirement already satisfied: typeguard<3.0.0,>=2.7 in /usr/local/lib/python3.11/dist-packages (from tensorflow-addons) (2.13.3)\n"
          ]
        }
      ]
    },
    {
      "cell_type": "code",
      "source": [
        "pip install tensorflow==2.15.0 tensorflow-addons"
      ],
      "metadata": {
        "colab": {
          "base_uri": "https://localhost:8080/"
        },
        "id": "9qEN9xw6q9JX",
        "outputId": "6c91355e-a3fc-44e6-8213-76a03556065b"
      },
      "execution_count": 1,
      "outputs": [
        {
          "output_type": "stream",
          "name": "stdout",
          "text": [
            "Requirement already satisfied: tensorflow==2.15.0 in /usr/local/lib/python3.11/dist-packages (2.15.0)\n",
            "Requirement already satisfied: tensorflow-addons in /usr/local/lib/python3.11/dist-packages (0.23.0)\n",
            "Requirement already satisfied: absl-py>=1.0.0 in /usr/local/lib/python3.11/dist-packages (from tensorflow==2.15.0) (1.4.0)\n",
            "Requirement already satisfied: astunparse>=1.6.0 in /usr/local/lib/python3.11/dist-packages (from tensorflow==2.15.0) (1.6.3)\n",
            "Requirement already satisfied: flatbuffers>=23.5.26 in /usr/local/lib/python3.11/dist-packages (from tensorflow==2.15.0) (25.2.10)\n",
            "Requirement already satisfied: gast!=0.5.0,!=0.5.1,!=0.5.2,>=0.2.1 in /usr/local/lib/python3.11/dist-packages (from tensorflow==2.15.0) (0.6.0)\n",
            "Requirement already satisfied: google-pasta>=0.1.1 in /usr/local/lib/python3.11/dist-packages (from tensorflow==2.15.0) (0.2.0)\n",
            "Requirement already satisfied: h5py>=2.9.0 in /usr/local/lib/python3.11/dist-packages (from tensorflow==2.15.0) (3.12.1)\n",
            "Requirement already satisfied: libclang>=13.0.0 in /usr/local/lib/python3.11/dist-packages (from tensorflow==2.15.0) (18.1.1)\n",
            "Requirement already satisfied: ml-dtypes~=0.2.0 in /usr/local/lib/python3.11/dist-packages (from tensorflow==2.15.0) (0.2.0)\n",
            "Requirement already satisfied: numpy<2.0.0,>=1.23.5 in /usr/local/lib/python3.11/dist-packages (from tensorflow==2.15.0) (1.26.4)\n",
            "Requirement already satisfied: opt-einsum>=2.3.2 in /usr/local/lib/python3.11/dist-packages (from tensorflow==2.15.0) (3.4.0)\n",
            "Requirement already satisfied: packaging in /usr/local/lib/python3.11/dist-packages (from tensorflow==2.15.0) (24.2)\n",
            "Requirement already satisfied: protobuf!=4.21.0,!=4.21.1,!=4.21.2,!=4.21.3,!=4.21.4,!=4.21.5,<5.0.0dev,>=3.20.3 in /usr/local/lib/python3.11/dist-packages (from tensorflow==2.15.0) (4.25.6)\n",
            "Requirement already satisfied: setuptools in /usr/local/lib/python3.11/dist-packages (from tensorflow==2.15.0) (75.1.0)\n",
            "Requirement already satisfied: six>=1.12.0 in /usr/local/lib/python3.11/dist-packages (from tensorflow==2.15.0) (1.17.0)\n",
            "Requirement already satisfied: termcolor>=1.1.0 in /usr/local/lib/python3.11/dist-packages (from tensorflow==2.15.0) (2.5.0)\n",
            "Requirement already satisfied: typing-extensions>=3.6.6 in /usr/local/lib/python3.11/dist-packages (from tensorflow==2.15.0) (4.12.2)\n",
            "Requirement already satisfied: wrapt<1.15,>=1.11.0 in /usr/local/lib/python3.11/dist-packages (from tensorflow==2.15.0) (1.14.1)\n",
            "Requirement already satisfied: tensorflow-io-gcs-filesystem>=0.23.1 in /usr/local/lib/python3.11/dist-packages (from tensorflow==2.15.0) (0.37.1)\n",
            "Requirement already satisfied: grpcio<2.0,>=1.24.3 in /usr/local/lib/python3.11/dist-packages (from tensorflow==2.15.0) (1.70.0)\n",
            "Requirement already satisfied: tensorboard<2.16,>=2.15 in /usr/local/lib/python3.11/dist-packages (from tensorflow==2.15.0) (2.15.2)\n",
            "Requirement already satisfied: tensorflow-estimator<2.16,>=2.15.0 in /usr/local/lib/python3.11/dist-packages (from tensorflow==2.15.0) (2.15.0)\n",
            "Requirement already satisfied: keras<2.16,>=2.15.0 in /usr/local/lib/python3.11/dist-packages (from tensorflow==2.15.0) (2.15.0)\n",
            "Requirement already satisfied: typeguard<3.0.0,>=2.7 in /usr/local/lib/python3.11/dist-packages (from tensorflow-addons) (2.13.3)\n",
            "Requirement already satisfied: wheel<1.0,>=0.23.0 in /usr/local/lib/python3.11/dist-packages (from astunparse>=1.6.0->tensorflow==2.15.0) (0.45.1)\n",
            "Requirement already satisfied: google-auth<3,>=1.6.3 in /usr/local/lib/python3.11/dist-packages (from tensorboard<2.16,>=2.15->tensorflow==2.15.0) (2.27.0)\n",
            "Requirement already satisfied: google-auth-oauthlib<2,>=0.5 in /usr/local/lib/python3.11/dist-packages (from tensorboard<2.16,>=2.15->tensorflow==2.15.0) (1.2.1)\n",
            "Requirement already satisfied: markdown>=2.6.8 in /usr/local/lib/python3.11/dist-packages (from tensorboard<2.16,>=2.15->tensorflow==2.15.0) (3.7)\n",
            "Requirement already satisfied: requests<3,>=2.21.0 in /usr/local/lib/python3.11/dist-packages (from tensorboard<2.16,>=2.15->tensorflow==2.15.0) (2.32.3)\n",
            "Requirement already satisfied: tensorboard-data-server<0.8.0,>=0.7.0 in /usr/local/lib/python3.11/dist-packages (from tensorboard<2.16,>=2.15->tensorflow==2.15.0) (0.7.2)\n",
            "Requirement already satisfied: werkzeug>=1.0.1 in /usr/local/lib/python3.11/dist-packages (from tensorboard<2.16,>=2.15->tensorflow==2.15.0) (3.1.3)\n",
            "Requirement already satisfied: cachetools<6.0,>=2.0.0 in /usr/local/lib/python3.11/dist-packages (from google-auth<3,>=1.6.3->tensorboard<2.16,>=2.15->tensorflow==2.15.0) (5.5.1)\n",
            "Requirement already satisfied: pyasn1-modules>=0.2.1 in /usr/local/lib/python3.11/dist-packages (from google-auth<3,>=1.6.3->tensorboard<2.16,>=2.15->tensorflow==2.15.0) (0.4.1)\n",
            "Requirement already satisfied: rsa<5,>=3.1.4 in /usr/local/lib/python3.11/dist-packages (from google-auth<3,>=1.6.3->tensorboard<2.16,>=2.15->tensorflow==2.15.0) (4.9)\n",
            "Requirement already satisfied: requests-oauthlib>=0.7.0 in /usr/local/lib/python3.11/dist-packages (from google-auth-oauthlib<2,>=0.5->tensorboard<2.16,>=2.15->tensorflow==2.15.0) (2.0.0)\n",
            "Requirement already satisfied: charset-normalizer<4,>=2 in /usr/local/lib/python3.11/dist-packages (from requests<3,>=2.21.0->tensorboard<2.16,>=2.15->tensorflow==2.15.0) (3.4.1)\n",
            "Requirement already satisfied: idna<4,>=2.5 in /usr/local/lib/python3.11/dist-packages (from requests<3,>=2.21.0->tensorboard<2.16,>=2.15->tensorflow==2.15.0) (3.10)\n",
            "Requirement already satisfied: urllib3<3,>=1.21.1 in /usr/local/lib/python3.11/dist-packages (from requests<3,>=2.21.0->tensorboard<2.16,>=2.15->tensorflow==2.15.0) (2.3.0)\n",
            "Requirement already satisfied: certifi>=2017.4.17 in /usr/local/lib/python3.11/dist-packages (from requests<3,>=2.21.0->tensorboard<2.16,>=2.15->tensorflow==2.15.0) (2025.1.31)\n",
            "Requirement already satisfied: MarkupSafe>=2.1.1 in /usr/local/lib/python3.11/dist-packages (from werkzeug>=1.0.1->tensorboard<2.16,>=2.15->tensorflow==2.15.0) (3.0.2)\n",
            "Requirement already satisfied: pyasn1<0.7.0,>=0.4.6 in /usr/local/lib/python3.11/dist-packages (from pyasn1-modules>=0.2.1->google-auth<3,>=1.6.3->tensorboard<2.16,>=2.15->tensorflow==2.15.0) (0.6.1)\n",
            "Requirement already satisfied: oauthlib>=3.0.0 in /usr/local/lib/python3.11/dist-packages (from requests-oauthlib>=0.7.0->google-auth-oauthlib<2,>=0.5->tensorboard<2.16,>=2.15->tensorflow==2.15.0) (3.2.2)\n"
          ]
        }
      ]
    },
    {
      "cell_type": "code",
      "execution_count": 23,
      "metadata": {
        "id": "BFAerTjmeGEe"
      },
      "outputs": [],
      "source": [
        "import numpy as np\n",
        "import pandas as pd\n",
        "import tensorflow as tf\n",
        "from tensorflow import keras\n",
        "from tensorflow.keras.models import Sequential\n",
        "from tensorflow.keras.layers import Dense, Dropout, Input\n",
        "from tensorflow.keras.regularizers import l1, l2\n",
        "from sklearn.model_selection import train_test_split\n",
        "from sklearn.preprocessing import StandardScaler, OneHotEncoder\n",
        "from sklearn.metrics import accuracy_score, precision_score, recall_score, f1_score, roc_curve\n",
        "from sklearn.utils.class_weight import compute_class_weight\n",
        "from imblearn.over_sampling import SMOTE\n",
        "from sklearn.utils import compute_class_weight\n",
        "import tensorflow_addons as tfa"
      ]
    },
    {
      "cell_type": "code",
      "source": [
        "import numpy as np\n",
        "import pandas as pd\n",
        "import tensorflow as tf\n",
        "from tensorflow import keras\n",
        "from tensorflow.keras.models import Sequential\n",
        "from tensorflow.keras.layers import Dense, Dropout, Input\n",
        "from tensorflow.keras.regularizers import l1, l2\n",
        "from sklearn.model_selection import train_test_split\n",
        "from sklearn.preprocessing import StandardScaler, OneHotEncoder\n",
        "from sklearn.metrics import accuracy_score, precision_score, recall_score, f1_score, roc_curve\n",
        "from sklearn.utils.class_weight import compute_class_weight\n",
        "from imblearn.over_sampling import SMOTE\n",
        "from sklearn.utils import compute_class_weight\n"
      ],
      "metadata": {
        "id": "r4z0kDxMtLu2"
      },
      "execution_count": 30,
      "outputs": []
    },
    {
      "cell_type": "code",
      "source": [
        "# Load dataset\n",
        "df = pd.read_csv(\"/content/heart_disease_uci.csv\")"
      ],
      "metadata": {
        "id": "OvGOdGKMrmqD"
      },
      "execution_count": 31,
      "outputs": []
    },
    {
      "cell_type": "code",
      "source": [
        "# Drop unnecessary columns\n",
        "df = df.drop(columns=['id'], errors='ignore')\n",
        "\n",
        "# Identify categorical columns\n",
        "categorical_cols = ['sex', 'cp', 'restecg', 'exang', 'slope', 'thal']\n",
        "\n",
        "# Handling missing values\n",
        "numerical_cols = ['trestbps', 'chol', 'thalch', 'oldpeak', 'ca']\n",
        "df[categorical_cols] = df[categorical_cols].fillna(df[categorical_cols].mode().iloc[0])\n",
        "df[numerical_cols] = df[numerical_cols].fillna(df[numerical_cols].median())\n",
        "\n",
        "# Handling the 'dataset' column (contains city names like 'Cleveland')\n",
        "if 'dataset' in df.columns:\n",
        "    df = pd.get_dummies(df, columns=['dataset'], drop_first=True)  # One-Hot Encoding\n",
        "\n",
        "# One-Hot Encoding for categorical variables\n",
        "df = pd.get_dummies(df, columns=categorical_cols, drop_first=True)\n",
        "\n",
        "# Standardizing numerical features\n",
        "scaler = StandardScaler()\n",
        "df[numerical_cols] = scaler.fit_transform(df[numerical_cols])\n",
        "\n",
        "# Ensure all columns are numeric\n",
        "df = df.apply(pd.to_numeric)\n",
        "\n",
        "# Creating separate datasets for multi-class and binary classification\n",
        "df_multi_class = df.copy()\n",
        "df_binary_class = df.copy()\n",
        "df_binary_class['num'] = df_binary_class['num'].apply(lambda x: 1 if x > 0 else 0)\n",
        "\n",
        "# Splitting data\n",
        "X_multi = df_multi_class.drop(columns=['num'])\n",
        "y_multi = df_multi_class['num']\n",
        "X_bin = df_binary_class.drop(columns=['num'])\n",
        "y_bin = df_binary_class['num']\n",
        "\n",
        "X_train_multi, X_test_multi, y_train_multi, y_test_multi = train_test_split(X_multi, y_multi, test_size=0.2, random_state=42)\n",
        "X_train_bin, X_test_bin, y_train_bin, y_test_bin = train_test_split(X_bin, y_bin, test_size=0.2, random_state=42)\n",
        "\n"
      ],
      "metadata": {
        "colab": {
          "base_uri": "https://localhost:8080/"
        },
        "id": "Eti3UfBefkPG",
        "outputId": "3931181f-b974-4638-ae07-2e9e016c9eb6"
      },
      "execution_count": 32,
      "outputs": [
        {
          "output_type": "stream",
          "name": "stderr",
          "text": [
            "<ipython-input-32-3a926154d414>:9: FutureWarning: Downcasting object dtype arrays on .fillna, .ffill, .bfill is deprecated and will change in a future version. Call result.infer_objects(copy=False) instead. To opt-in to the future behavior, set `pd.set_option('future.no_silent_downcasting', True)`\n",
            "  df[categorical_cols] = df[categorical_cols].fillna(df[categorical_cols].mode().iloc[0])\n"
          ]
        }
      ]
    },
    {
      "cell_type": "code",
      "source": [
        "# Function to create DFN model\n",
        "def create_dfn(activation='relu', optimizer='adam', reg=None, dropout_rate=0.0):\n",
        "    model = Sequential()\n",
        "    model.add(Dense(64, activation=activation, input_shape=(X_train_bin.shape[1],), kernel_regularizer=reg))\n",
        "    for _ in range(4):\n",
        "        model.add(Dense(64, activation=activation, kernel_regularizer=reg))\n",
        "        if dropout_rate > 0:\n",
        "            model.add(Dropout(dropout_rate))\n",
        "    model.add(Dense(1, activation='sigmoid'))\n",
        "    model.compile(optimizer=optimizer, loss='binary_crossentropy', metrics=['accuracy'])\n",
        "    return model"
      ],
      "metadata": {
        "id": "WCy65HRbf4MY"
      },
      "execution_count": 33,
      "outputs": []
    },
    {
      "cell_type": "code",
      "source": [
        "# Train and evaluate models\n",
        "activations = ['relu', 'tanh', 'sigmoid']\n",
        "optimizers = ['adam', 'sgd']\n",
        "regularizations = [None, l1(0.01), l2(0.01)]\n",
        "dropout_rates = [0.0, 0.3]\n",
        "\n",
        "results = []\n",
        "\n",
        "for activation in activations:\n",
        "    for optimizer in optimizers:\n",
        "        for reg in regularizations:\n",
        "            for dropout in dropout_rates:\n",
        "                model = create_dfn(activation=activation, optimizer=optimizer, reg=reg, dropout_rate=dropout)\n",
        "                model.fit(X_train_bin, y_train_bin, epochs=50, batch_size=32, verbose=0, validation_split=0.2)\n",
        "                y_pred = (model.predict(X_test_bin) > 0.5).astype(int)\n",
        "\n",
        "                accuracy = accuracy_score(y_test_bin, y_pred)\n",
        "                precision = precision_score(y_test_bin, y_pred)\n",
        "                recall = recall_score(y_test_bin, y_pred)\n",
        "                f1 = f1_score(y_test_bin, y_pred)\n",
        "\n",
        "                results.append({\n",
        "                    'Activation': activation,\n",
        "                    'Optimizer': optimizer,\n",
        "                    'Regularization': reg,\n",
        "                    'Dropout': dropout,\n",
        "                    'Accuracy': accuracy,\n",
        "                    'Precision': precision,\n",
        "                    'Recall': recall,\n",
        "                    'F1-score': f1\n",
        "                })\n",
        "\n",
        "# Convert results to DataFrame and analyze\n",
        "results_df = pd.DataFrame(results)\n",
        "print(results_df.sort_values(by='Accuracy', ascending=False))"
      ],
      "metadata": {
        "colab": {
          "base_uri": "https://localhost:8080/",
          "height": 367
        },
        "id": "zhtu9GlngBzn",
        "outputId": "d12833e5-091f-47d9-9611-7e5a3cb15876"
      },
      "execution_count": 34,
      "outputs": [
        {
          "output_type": "error",
          "ename": "ValueError",
          "evalue": "Failed to convert a NumPy array to a Tensor (Unsupported object type int).",
          "traceback": [
            "\u001b[0;31m---------------------------------------------------------------------------\u001b[0m",
            "\u001b[0;31mValueError\u001b[0m                                Traceback (most recent call last)",
            "\u001b[0;32m<ipython-input-34-054ff8886de7>\u001b[0m in \u001b[0;36m<cell line: 0>\u001b[0;34m()\u001b[0m\n\u001b[1;32m     12\u001b[0m             \u001b[0;32mfor\u001b[0m \u001b[0mdropout\u001b[0m \u001b[0;32min\u001b[0m \u001b[0mdropout_rates\u001b[0m\u001b[0;34m:\u001b[0m\u001b[0;34m\u001b[0m\u001b[0;34m\u001b[0m\u001b[0m\n\u001b[1;32m     13\u001b[0m                 \u001b[0mmodel\u001b[0m \u001b[0;34m=\u001b[0m \u001b[0mcreate_dfn\u001b[0m\u001b[0;34m(\u001b[0m\u001b[0mactivation\u001b[0m\u001b[0;34m=\u001b[0m\u001b[0mactivation\u001b[0m\u001b[0;34m,\u001b[0m \u001b[0moptimizer\u001b[0m\u001b[0;34m=\u001b[0m\u001b[0moptimizer\u001b[0m\u001b[0;34m,\u001b[0m \u001b[0mreg\u001b[0m\u001b[0;34m=\u001b[0m\u001b[0mreg\u001b[0m\u001b[0;34m,\u001b[0m \u001b[0mdropout_rate\u001b[0m\u001b[0;34m=\u001b[0m\u001b[0mdropout\u001b[0m\u001b[0;34m)\u001b[0m\u001b[0;34m\u001b[0m\u001b[0;34m\u001b[0m\u001b[0m\n\u001b[0;32m---> 14\u001b[0;31m                 \u001b[0mmodel\u001b[0m\u001b[0;34m.\u001b[0m\u001b[0mfit\u001b[0m\u001b[0;34m(\u001b[0m\u001b[0mX_train_bin\u001b[0m\u001b[0;34m,\u001b[0m \u001b[0my_train_bin\u001b[0m\u001b[0;34m,\u001b[0m \u001b[0mepochs\u001b[0m\u001b[0;34m=\u001b[0m\u001b[0;36m50\u001b[0m\u001b[0;34m,\u001b[0m \u001b[0mbatch_size\u001b[0m\u001b[0;34m=\u001b[0m\u001b[0;36m32\u001b[0m\u001b[0;34m,\u001b[0m \u001b[0mverbose\u001b[0m\u001b[0;34m=\u001b[0m\u001b[0;36m0\u001b[0m\u001b[0;34m,\u001b[0m \u001b[0mvalidation_split\u001b[0m\u001b[0;34m=\u001b[0m\u001b[0;36m0.2\u001b[0m\u001b[0;34m)\u001b[0m\u001b[0;34m\u001b[0m\u001b[0;34m\u001b[0m\u001b[0m\n\u001b[0m\u001b[1;32m     15\u001b[0m                 \u001b[0my_pred\u001b[0m \u001b[0;34m=\u001b[0m \u001b[0;34m(\u001b[0m\u001b[0mmodel\u001b[0m\u001b[0;34m.\u001b[0m\u001b[0mpredict\u001b[0m\u001b[0;34m(\u001b[0m\u001b[0mX_test_bin\u001b[0m\u001b[0;34m)\u001b[0m \u001b[0;34m>\u001b[0m \u001b[0;36m0.5\u001b[0m\u001b[0;34m)\u001b[0m\u001b[0;34m.\u001b[0m\u001b[0mastype\u001b[0m\u001b[0;34m(\u001b[0m\u001b[0mint\u001b[0m\u001b[0;34m)\u001b[0m\u001b[0;34m\u001b[0m\u001b[0;34m\u001b[0m\u001b[0m\n\u001b[1;32m     16\u001b[0m \u001b[0;34m\u001b[0m\u001b[0m\n",
            "\u001b[0;32m/usr/local/lib/python3.11/dist-packages/keras/src/utils/traceback_utils.py\u001b[0m in \u001b[0;36merror_handler\u001b[0;34m(*args, **kwargs)\u001b[0m\n\u001b[1;32m     68\u001b[0m             \u001b[0;31m# To get the full stack trace, call:\u001b[0m\u001b[0;34m\u001b[0m\u001b[0;34m\u001b[0m\u001b[0m\n\u001b[1;32m     69\u001b[0m             \u001b[0;31m# `tf.debugging.disable_traceback_filtering()`\u001b[0m\u001b[0;34m\u001b[0m\u001b[0;34m\u001b[0m\u001b[0m\n\u001b[0;32m---> 70\u001b[0;31m             \u001b[0;32mraise\u001b[0m \u001b[0me\u001b[0m\u001b[0;34m.\u001b[0m\u001b[0mwith_traceback\u001b[0m\u001b[0;34m(\u001b[0m\u001b[0mfiltered_tb\u001b[0m\u001b[0;34m)\u001b[0m \u001b[0;32mfrom\u001b[0m \u001b[0;32mNone\u001b[0m\u001b[0;34m\u001b[0m\u001b[0;34m\u001b[0m\u001b[0m\n\u001b[0m\u001b[1;32m     71\u001b[0m         \u001b[0;32mfinally\u001b[0m\u001b[0;34m:\u001b[0m\u001b[0;34m\u001b[0m\u001b[0;34m\u001b[0m\u001b[0m\n\u001b[1;32m     72\u001b[0m             \u001b[0;32mdel\u001b[0m \u001b[0mfiltered_tb\u001b[0m\u001b[0;34m\u001b[0m\u001b[0;34m\u001b[0m\u001b[0m\n",
            "\u001b[0;32m/usr/local/lib/python3.11/dist-packages/tensorflow/python/framework/constant_op.py\u001b[0m in \u001b[0;36mconvert_to_eager_tensor\u001b[0;34m(value, ctx, dtype)\u001b[0m\n\u001b[1;32m    101\u001b[0m       \u001b[0mdtype\u001b[0m \u001b[0;34m=\u001b[0m \u001b[0mdtypes\u001b[0m\u001b[0;34m.\u001b[0m\u001b[0mas_dtype\u001b[0m\u001b[0;34m(\u001b[0m\u001b[0mdtype\u001b[0m\u001b[0;34m)\u001b[0m\u001b[0;34m.\u001b[0m\u001b[0mas_datatype_enum\u001b[0m\u001b[0;34m\u001b[0m\u001b[0;34m\u001b[0m\u001b[0m\n\u001b[1;32m    102\u001b[0m   \u001b[0mctx\u001b[0m\u001b[0;34m.\u001b[0m\u001b[0mensure_initialized\u001b[0m\u001b[0;34m(\u001b[0m\u001b[0;34m)\u001b[0m\u001b[0;34m\u001b[0m\u001b[0;34m\u001b[0m\u001b[0m\n\u001b[0;32m--> 103\u001b[0;31m   \u001b[0;32mreturn\u001b[0m \u001b[0mops\u001b[0m\u001b[0;34m.\u001b[0m\u001b[0mEagerTensor\u001b[0m\u001b[0;34m(\u001b[0m\u001b[0mvalue\u001b[0m\u001b[0;34m,\u001b[0m \u001b[0mctx\u001b[0m\u001b[0;34m.\u001b[0m\u001b[0mdevice_name\u001b[0m\u001b[0;34m,\u001b[0m \u001b[0mdtype\u001b[0m\u001b[0;34m)\u001b[0m\u001b[0;34m\u001b[0m\u001b[0;34m\u001b[0m\u001b[0m\n\u001b[0m\u001b[1;32m    104\u001b[0m \u001b[0;34m\u001b[0m\u001b[0m\n\u001b[1;32m    105\u001b[0m \u001b[0;34m\u001b[0m\u001b[0m\n",
            "\u001b[0;31mValueError\u001b[0m: Failed to convert a NumPy array to a Tensor (Unsupported object type int)."
          ]
        }
      ]
    },
    {
      "cell_type": "code",
      "source": [
        "print(df_binary_class['num'].value_counts())"
      ],
      "metadata": {
        "colab": {
          "base_uri": "https://localhost:8080/"
        },
        "id": "wq5HnbfOgRTv",
        "outputId": "b55c3955-71f5-486e-eb22-1013993c7a2d"
      },
      "execution_count": 35,
      "outputs": [
        {
          "output_type": "stream",
          "name": "stdout",
          "text": [
            "num\n",
            "1    509\n",
            "0    411\n",
            "Name: count, dtype: int64\n"
          ]
        }
      ]
    },
    {
      "cell_type": "code",
      "source": [
        "from sklearn.ensemble import RandomForestClassifier\n",
        "rf = RandomForestClassifier().fit(X_train_bin, y_train_bin)\n",
        "feature_importances = pd.Series(rf.feature_importances_, index=X_train_bin.columns).sort_values(ascending=False)\n",
        "print(feature_importances)"
      ],
      "metadata": {
        "colab": {
          "base_uri": "https://localhost:8080/"
        },
        "id": "hbiKEsJ3ldv7",
        "outputId": "204af8d8-6a31-4c16-8fd6-5fcdb383f56e"
      },
      "execution_count": 36,
      "outputs": [
        {
          "output_type": "stream",
          "name": "stdout",
          "text": [
            "thalch                      0.120321\n",
            "chol                        0.119524\n",
            "oldpeak                     0.114796\n",
            "age                         0.093955\n",
            "exang_True                  0.084142\n",
            "trestbps                    0.077935\n",
            "cp_atypical angina          0.065416\n",
            "sex_Male                    0.058621\n",
            "dataset_Switzerland         0.034699\n",
            "cp_non-anginal              0.031576\n",
            "ca                          0.028450\n",
            "thal_normal                 0.027553\n",
            "fbs                         0.025181\n",
            "dataset_VA Long Beach       0.018176\n",
            "slope_upsloping             0.017384\n",
            "restecg_normal              0.015911\n",
            "dataset_Hungary             0.015745\n",
            "thal_reversable defect      0.013767\n",
            "cp_typical angina           0.013607\n",
            "restecg_st-t abnormality    0.011724\n",
            "slope_flat                  0.011519\n",
            "dtype: float64\n"
          ]
        }
      ]
    },
    {
      "cell_type": "code",
      "source": [
        "# Ensure no NaN values before SMOTE\n",
        "if df.isnull().sum().sum() > 0:\n",
        "    df = df.fillna(df.median())\n",
        "\n",
        "# Handling class imbalance\n",
        "class_weights = compute_class_weight(class_weight=\"balanced\", classes=np.unique(y_train_bin), y=y_train_bin)\n",
        "class_weights = {i: class_weights[i] for i in range(len(class_weights))}\n",
        "\n",
        "# Re-check for NaNs before applying SMOTE\n",
        "X_train_bin = X_train_bin.dropna()\n",
        "y_train_bin = y_train_bin.loc[X_train_bin.index]\n",
        "\n",
        "smote = SMOTE(sampling_strategy='auto', random_state=42)\n",
        "X_train_bin, y_train_bin = smote.fit_resample(X_train_bin, y_train_bin)"
      ],
      "metadata": {
        "id": "wq-umXENouvq"
      },
      "execution_count": 37,
      "outputs": []
    },
    {
      "cell_type": "code",
      "source": [
        "# Drop unnecessary columns\n",
        "df = df.drop(columns=['id'], errors='ignore')\n",
        "\n",
        "# Handling missing values with improved column checks\n",
        "categorical_cols = ['sex', 'cp', 'restecg', 'exang', 'slope', 'thal']\n",
        "numerical_cols = ['trestbps', 'chol', 'thalch', 'oldpeak', 'ca']\n",
        "\n",
        "available_categorical_cols = [col for col in categorical_cols if col in df.columns]\n",
        "available_numerical_cols = [col for col in numerical_cols if col in df.columns]\n",
        "\n",
        "if available_categorical_cols:\n",
        "    df[available_categorical_cols] = df[available_categorical_cols].fillna(df[available_categorical_cols].mode().iloc[0])\n",
        "\n",
        "if available_numerical_cols:\n",
        "    df[available_numerical_cols] = df[available_numerical_cols].fillna(df[available_numerical_cols].median())\n",
        "\n",
        "# One-Hot Encoding for categorical variables\n",
        "df = pd.get_dummies(df, columns=available_categorical_cols, drop_first=True)\n",
        "\n",
        "# Standardizing numerical features\n",
        "scaler = StandardScaler()\n",
        "if available_numerical_cols:\n",
        "    df[available_numerical_cols] = scaler.fit_transform(df[available_numerical_cols])\n",
        "\n",
        "# Ensure all columns are numeric\n",
        "df = df.apply(pd.to_numeric)\n",
        "\n",
        "# Removing less relevant categorical features\n",
        "df = df.drop(columns=['dataset_Switzerland', 'dataset_Hungary', 'dataset_VA Long Beach'], errors='ignore')\n",
        "\n",
        "# Creating separate datasets for multi-class and binary classification\n",
        "df_multi_class = df.copy()\n",
        "df_binary_class = df.copy()\n",
        "df_binary_class['num'] = df_binary_class['num'].apply(lambda x: 1 if x > 0 else 0)\n",
        "\n",
        "# Splitting data\n",
        "X_multi = df_multi_class.drop(columns=['num'])\n",
        "y_multi = df_multi_class['num']\n",
        "X_bin = df_binary_class.drop(columns=['num'])\n",
        "y_bin = df_binary_class['num']\n",
        "\n",
        "X_train_multi, X_test_multi, y_train_multi, y_test_multi = train_test_split(X_multi, y_multi, test_size=0.2, random_state=42)\n",
        "X_train_bin, X_test_bin, y_train_bin, y_test_bin = train_test_split(X_bin, y_bin, test_size=0.2, random_state=42)\n",
        "\n",
        "# Handling class imbalance\n",
        "class_weights = compute_class_weight(class_weight=\"balanced\", classes=np.unique(y_train_bin), y=y_train_bin)\n",
        "class_weights = {i: class_weights[i] for i in range(len(class_weights))}\n",
        "\n",
        "smote = SMOTE(sampling_strategy='auto', random_state=42)\n",
        "X_train_bin, y_train_bin = smote.fit_resample(X_train_bin, y_train_bin)"
      ],
      "metadata": {
        "id": "o2EVJFf5l8V-"
      },
      "execution_count": 38,
      "outputs": []
    },
    {
      "cell_type": "code",
      "source": [
        "# Function to create DFN model\n",
        "def create_dfn(activation='relu', optimizer='adam', reg=None, dropout_rate=0.0):\n",
        "    model = Sequential()\n",
        "    model.add(Input(shape=(X_train_bin.shape[1],)))\n",
        "    model.add(Dense(64, activation=activation, kernel_regularizer=reg))\n",
        "    for _ in range(4):\n",
        "        model.add(Dense(64, activation=activation, kernel_regularizer=reg))\n",
        "        if dropout_rate > 0:\n",
        "            model.add(Dropout(dropout_rate))\n",
        "    model.add(Dense(1, activation='sigmoid'))\n",
        "    model.compile(optimizer=optimizer, loss='binary_crossentropy', metrics=['accuracy'])\n",
        "    return model"
      ],
      "metadata": {
        "id": "U8EafupCm6Qj"
      },
      "execution_count": 39,
      "outputs": []
    },
    {
      "cell_type": "code",
      "source": [
        "# Convert results to DataFrame and analyze\n",
        "results_df = pd.DataFrame(results)\n",
        "print(results_df.sort_values(by='Accuracy', ascending=False))"
      ],
      "metadata": {
        "colab": {
          "base_uri": "https://localhost:8080/",
          "height": 316
        },
        "id": "6nBZ8iX8o6Sk",
        "outputId": "8770e531-1c88-407e-ab77-32747b0f3697"
      },
      "execution_count": 40,
      "outputs": [
        {
          "output_type": "error",
          "ename": "KeyError",
          "evalue": "'Accuracy'",
          "traceback": [
            "\u001b[0;31m---------------------------------------------------------------------------\u001b[0m",
            "\u001b[0;31mKeyError\u001b[0m                                  Traceback (most recent call last)",
            "\u001b[0;32m<ipython-input-40-5254d02746d6>\u001b[0m in \u001b[0;36m<cell line: 0>\u001b[0;34m()\u001b[0m\n\u001b[1;32m      1\u001b[0m \u001b[0;31m# Convert results to DataFrame and analyze\u001b[0m\u001b[0;34m\u001b[0m\u001b[0;34m\u001b[0m\u001b[0m\n\u001b[1;32m      2\u001b[0m \u001b[0mresults_df\u001b[0m \u001b[0;34m=\u001b[0m \u001b[0mpd\u001b[0m\u001b[0;34m.\u001b[0m\u001b[0mDataFrame\u001b[0m\u001b[0;34m(\u001b[0m\u001b[0mresults\u001b[0m\u001b[0;34m)\u001b[0m\u001b[0;34m\u001b[0m\u001b[0;34m\u001b[0m\u001b[0m\n\u001b[0;32m----> 3\u001b[0;31m \u001b[0mprint\u001b[0m\u001b[0;34m(\u001b[0m\u001b[0mresults_df\u001b[0m\u001b[0;34m.\u001b[0m\u001b[0msort_values\u001b[0m\u001b[0;34m(\u001b[0m\u001b[0mby\u001b[0m\u001b[0;34m=\u001b[0m\u001b[0;34m'Accuracy'\u001b[0m\u001b[0;34m,\u001b[0m \u001b[0mascending\u001b[0m\u001b[0;34m=\u001b[0m\u001b[0;32mFalse\u001b[0m\u001b[0;34m)\u001b[0m\u001b[0;34m)\u001b[0m\u001b[0;34m\u001b[0m\u001b[0;34m\u001b[0m\u001b[0m\n\u001b[0m",
            "\u001b[0;32m/usr/local/lib/python3.11/dist-packages/pandas/core/frame.py\u001b[0m in \u001b[0;36msort_values\u001b[0;34m(self, by, axis, ascending, inplace, kind, na_position, ignore_index, key)\u001b[0m\n\u001b[1;32m   7187\u001b[0m             \u001b[0;31m# len(by) == 1\u001b[0m\u001b[0;34m\u001b[0m\u001b[0;34m\u001b[0m\u001b[0m\n\u001b[1;32m   7188\u001b[0m \u001b[0;34m\u001b[0m\u001b[0m\n\u001b[0;32m-> 7189\u001b[0;31m             \u001b[0mk\u001b[0m \u001b[0;34m=\u001b[0m \u001b[0mself\u001b[0m\u001b[0;34m.\u001b[0m\u001b[0m_get_label_or_level_values\u001b[0m\u001b[0;34m(\u001b[0m\u001b[0mby\u001b[0m\u001b[0;34m[\u001b[0m\u001b[0;36m0\u001b[0m\u001b[0;34m]\u001b[0m\u001b[0;34m,\u001b[0m \u001b[0maxis\u001b[0m\u001b[0;34m=\u001b[0m\u001b[0maxis\u001b[0m\u001b[0;34m)\u001b[0m\u001b[0;34m\u001b[0m\u001b[0;34m\u001b[0m\u001b[0m\n\u001b[0m\u001b[1;32m   7190\u001b[0m \u001b[0;34m\u001b[0m\u001b[0m\n\u001b[1;32m   7191\u001b[0m             \u001b[0;31m# need to rewrap column in Series to apply key function\u001b[0m\u001b[0;34m\u001b[0m\u001b[0;34m\u001b[0m\u001b[0m\n",
            "\u001b[0;32m/usr/local/lib/python3.11/dist-packages/pandas/core/generic.py\u001b[0m in \u001b[0;36m_get_label_or_level_values\u001b[0;34m(self, key, axis)\u001b[0m\n\u001b[1;32m   1909\u001b[0m             \u001b[0mvalues\u001b[0m \u001b[0;34m=\u001b[0m \u001b[0mself\u001b[0m\u001b[0;34m.\u001b[0m\u001b[0maxes\u001b[0m\u001b[0;34m[\u001b[0m\u001b[0maxis\u001b[0m\u001b[0;34m]\u001b[0m\u001b[0;34m.\u001b[0m\u001b[0mget_level_values\u001b[0m\u001b[0;34m(\u001b[0m\u001b[0mkey\u001b[0m\u001b[0;34m)\u001b[0m\u001b[0;34m.\u001b[0m\u001b[0m_values\u001b[0m\u001b[0;34m\u001b[0m\u001b[0;34m\u001b[0m\u001b[0m\n\u001b[1;32m   1910\u001b[0m         \u001b[0;32melse\u001b[0m\u001b[0;34m:\u001b[0m\u001b[0;34m\u001b[0m\u001b[0;34m\u001b[0m\u001b[0m\n\u001b[0;32m-> 1911\u001b[0;31m             \u001b[0;32mraise\u001b[0m \u001b[0mKeyError\u001b[0m\u001b[0;34m(\u001b[0m\u001b[0mkey\u001b[0m\u001b[0;34m)\u001b[0m\u001b[0;34m\u001b[0m\u001b[0;34m\u001b[0m\u001b[0m\n\u001b[0m\u001b[1;32m   1912\u001b[0m \u001b[0;34m\u001b[0m\u001b[0m\n\u001b[1;32m   1913\u001b[0m         \u001b[0;31m# Check for duplicates\u001b[0m\u001b[0;34m\u001b[0m\u001b[0;34m\u001b[0m\u001b[0m\n",
            "\u001b[0;31mKeyError\u001b[0m: 'Accuracy'"
          ]
        }
      ]
    },
    {
      "cell_type": "code",
      "source": [
        "results_df = results_df.sort_values(by=results_df.columns[0], ascending=False)  # Use first column as a fallback\n",
        "print(results_df)\n"
      ],
      "metadata": {
        "colab": {
          "base_uri": "https://localhost:8080/",
          "height": 401
        },
        "id": "8FBzmDLctmMm",
        "outputId": "246a8568-20e3-49ce-e64d-011bab51ac5a"
      },
      "execution_count": 43,
      "outputs": [
        {
          "output_type": "error",
          "ename": "IndexError",
          "evalue": "index 0 is out of bounds for axis 0 with size 0",
          "traceback": [
            "\u001b[0;31m---------------------------------------------------------------------------\u001b[0m",
            "\u001b[0;31mIndexError\u001b[0m                                Traceback (most recent call last)",
            "\u001b[0;32m/usr/local/lib/python3.11/dist-packages/pandas/core/indexes/range.py\u001b[0m in \u001b[0;36m__getitem__\u001b[0;34m(self, key)\u001b[0m\n\u001b[1;32m   1017\u001b[0m             \u001b[0;32mtry\u001b[0m\u001b[0;34m:\u001b[0m\u001b[0;34m\u001b[0m\u001b[0;34m\u001b[0m\u001b[0m\n\u001b[0;32m-> 1018\u001b[0;31m                 \u001b[0;32mreturn\u001b[0m \u001b[0mself\u001b[0m\u001b[0;34m.\u001b[0m\u001b[0m_range\u001b[0m\u001b[0;34m[\u001b[0m\u001b[0mnew_key\u001b[0m\u001b[0;34m]\u001b[0m\u001b[0;34m\u001b[0m\u001b[0;34m\u001b[0m\u001b[0m\n\u001b[0m\u001b[1;32m   1019\u001b[0m             \u001b[0;32mexcept\u001b[0m \u001b[0mIndexError\u001b[0m \u001b[0;32mas\u001b[0m \u001b[0merr\u001b[0m\u001b[0;34m:\u001b[0m\u001b[0;34m\u001b[0m\u001b[0;34m\u001b[0m\u001b[0m\n",
            "\u001b[0;31mIndexError\u001b[0m: range object index out of range",
            "\nThe above exception was the direct cause of the following exception:\n",
            "\u001b[0;31mIndexError\u001b[0m                                Traceback (most recent call last)",
            "\u001b[0;32m<ipython-input-43-46dc63fc9d2c>\u001b[0m in \u001b[0;36m<cell line: 0>\u001b[0;34m()\u001b[0m\n\u001b[0;32m----> 1\u001b[0;31m \u001b[0mresults_df\u001b[0m \u001b[0;34m=\u001b[0m \u001b[0mresults_df\u001b[0m\u001b[0;34m.\u001b[0m\u001b[0msort_values\u001b[0m\u001b[0;34m(\u001b[0m\u001b[0mby\u001b[0m\u001b[0;34m=\u001b[0m\u001b[0mresults_df\u001b[0m\u001b[0;34m.\u001b[0m\u001b[0mcolumns\u001b[0m\u001b[0;34m[\u001b[0m\u001b[0;36m0\u001b[0m\u001b[0;34m]\u001b[0m\u001b[0;34m,\u001b[0m \u001b[0mascending\u001b[0m\u001b[0;34m=\u001b[0m\u001b[0;32mFalse\u001b[0m\u001b[0;34m)\u001b[0m  \u001b[0;31m# Use first column as a fallback\u001b[0m\u001b[0;34m\u001b[0m\u001b[0;34m\u001b[0m\u001b[0m\n\u001b[0m\u001b[1;32m      2\u001b[0m \u001b[0mprint\u001b[0m\u001b[0;34m(\u001b[0m\u001b[0mresults_df\u001b[0m\u001b[0;34m)\u001b[0m\u001b[0;34m\u001b[0m\u001b[0;34m\u001b[0m\u001b[0m\n",
            "\u001b[0;32m/usr/local/lib/python3.11/dist-packages/pandas/core/indexes/range.py\u001b[0m in \u001b[0;36m__getitem__\u001b[0;34m(self, key)\u001b[0m\n\u001b[1;32m   1018\u001b[0m                 \u001b[0;32mreturn\u001b[0m \u001b[0mself\u001b[0m\u001b[0;34m.\u001b[0m\u001b[0m_range\u001b[0m\u001b[0;34m[\u001b[0m\u001b[0mnew_key\u001b[0m\u001b[0;34m]\u001b[0m\u001b[0;34m\u001b[0m\u001b[0;34m\u001b[0m\u001b[0m\n\u001b[1;32m   1019\u001b[0m             \u001b[0;32mexcept\u001b[0m \u001b[0mIndexError\u001b[0m \u001b[0;32mas\u001b[0m \u001b[0merr\u001b[0m\u001b[0;34m:\u001b[0m\u001b[0;34m\u001b[0m\u001b[0;34m\u001b[0m\u001b[0m\n\u001b[0;32m-> 1020\u001b[0;31m                 raise IndexError(\n\u001b[0m\u001b[1;32m   1021\u001b[0m                     \u001b[0;34mf\"index {key} is out of bounds for axis 0 with size {len(self)}\"\u001b[0m\u001b[0;34m\u001b[0m\u001b[0;34m\u001b[0m\u001b[0m\n\u001b[1;32m   1022\u001b[0m                 ) from err\n",
            "\u001b[0;31mIndexError\u001b[0m: index 0 is out of bounds for axis 0 with size 0"
          ]
        }
      ]
    },
    {
      "cell_type": "markdown",
      "source": [
        "model is performing poorly—accuracy is stuck at 40.76%, and precision, recall, and F1-score are all 0.0, which means the model isn't predicting the positive class at all."
      ],
      "metadata": {
        "id": "zxLbdegZpkdJ"
      }
    },
    {
      "cell_type": "code",
      "source": [
        "# Addressing class imbalance differently by trying class weights instead of SMOTE\n",
        "class_weights_bin = compute_class_weight(class_weight=\"balanced\", classes=np.unique(y_train_bin), y=y_train_bin)\n",
        "class_weights_bin = {i: class_weights_bin[i] for i in range(len(class_weights_bin))}\n",
        "\n",
        "# Modifying the DFN architecture: Increasing the number of neurons and adding Batch Normalization\n",
        "from tensorflow.keras.layers import BatchNormalization\n",
        "\n",
        "def create_dfn_v2(activation='relu', optimizer='adam', reg=None, dropout_rate=0.0):\n",
        "    model = Sequential()\n",
        "    model.add(Input(shape=(X_train_bin.shape[1],)))\n",
        "    model.add(Dense(128, activation=activation, kernel_regularizer=reg))\n",
        "    model.add(BatchNormalization())\n",
        "    for _ in range(4):\n",
        "        model.add(Dense(128, activation=activation, kernel_regularizer=reg))\n",
        "        model.add(BatchNormalization())\n",
        "        if dropout_rate > 0:\n",
        "            model.add(Dropout(dropout_rate))\n",
        "    model.add(Dense(1, activation='sigmoid'))\n",
        "    model.compile(optimizer=optimizer, loss='binary_crossentropy', metrics=['accuracy'])\n",
        "    return model\n",
        "\n",
        "# Changing loss function to account for class imbalance\n",
        "model.compile(optimizer='adam', loss=tf.keras.losses.BinaryFocalCrossentropy(), metrics=['accuracy'])\n"
      ],
      "metadata": {
        "colab": {
          "base_uri": "https://localhost:8080/",
          "height": 173
        },
        "id": "amz12d3vo67E",
        "outputId": "86b40ad5-2c9a-49b5-8cb1-a0868ac1463c"
      },
      "execution_count": 20,
      "outputs": [
        {
          "output_type": "error",
          "ename": "NameError",
          "evalue": "name 'model' is not defined",
          "traceback": [
            "\u001b[0;31m---------------------------------------------------------------------------\u001b[0m",
            "\u001b[0;31mNameError\u001b[0m                                 Traceback (most recent call last)",
            "\u001b[0;32m<ipython-input-20-4152f693d6b6>\u001b[0m in \u001b[0;36m<cell line: 0>\u001b[0;34m()\u001b[0m\n\u001b[1;32m     21\u001b[0m \u001b[0;34m\u001b[0m\u001b[0m\n\u001b[1;32m     22\u001b[0m \u001b[0;31m# Changing loss function to account for class imbalance\u001b[0m\u001b[0;34m\u001b[0m\u001b[0;34m\u001b[0m\u001b[0m\n\u001b[0;32m---> 23\u001b[0;31m \u001b[0mmodel\u001b[0m\u001b[0;34m.\u001b[0m\u001b[0mcompile\u001b[0m\u001b[0;34m(\u001b[0m\u001b[0moptimizer\u001b[0m\u001b[0;34m=\u001b[0m\u001b[0;34m'adam'\u001b[0m\u001b[0;34m,\u001b[0m \u001b[0mloss\u001b[0m\u001b[0;34m=\u001b[0m\u001b[0mtf\u001b[0m\u001b[0;34m.\u001b[0m\u001b[0mkeras\u001b[0m\u001b[0;34m.\u001b[0m\u001b[0mlosses\u001b[0m\u001b[0;34m.\u001b[0m\u001b[0mBinaryFocalCrossentropy\u001b[0m\u001b[0;34m(\u001b[0m\u001b[0;34m)\u001b[0m\u001b[0;34m,\u001b[0m \u001b[0mmetrics\u001b[0m\u001b[0;34m=\u001b[0m\u001b[0;34m[\u001b[0m\u001b[0;34m'accuracy'\u001b[0m\u001b[0;34m]\u001b[0m\u001b[0;34m)\u001b[0m\u001b[0;34m\u001b[0m\u001b[0;34m\u001b[0m\u001b[0m\n\u001b[0m",
            "\u001b[0;31mNameError\u001b[0m: name 'model' is not defined"
          ]
        }
      ]
    },
    {
      "cell_type": "code",
      "source": [
        "# Convert results to DataFrame and analyze\n",
        "results_df = pd.DataFrame(results)\n",
        "print(results_df.sort_values(by='Accuracy', ascending=False))"
      ],
      "metadata": {
        "colab": {
          "base_uri": "https://localhost:8080/"
        },
        "id": "JvhO5UOlqTRa",
        "outputId": "318fbb27-0c9d-484f-9d57-5a728a2ad231"
      },
      "execution_count": 35,
      "outputs": [
        {
          "output_type": "stream",
          "name": "stdout",
          "text": [
            "   Activation Optimizer                                     Regularization  \\\n",
            "0        relu      adam                                               None   \n",
            "1        relu      adam                                               None   \n",
            "20       tanh       sgd  <keras.src.regularizers.regularizers.L1 object...   \n",
            "21       tanh       sgd  <keras.src.regularizers.regularizers.L1 object...   \n",
            "22       tanh       sgd  <keras.src.regularizers.regularizers.L2 object...   \n",
            "23       tanh       sgd  <keras.src.regularizers.regularizers.L2 object...   \n",
            "24    sigmoid      adam                                               None   \n",
            "25    sigmoid      adam                                               None   \n",
            "26    sigmoid      adam  <keras.src.regularizers.regularizers.L1 object...   \n",
            "27    sigmoid      adam  <keras.src.regularizers.regularizers.L1 object...   \n",
            "28    sigmoid      adam  <keras.src.regularizers.regularizers.L2 object...   \n",
            "29    sigmoid      adam  <keras.src.regularizers.regularizers.L2 object...   \n",
            "30    sigmoid       sgd                                               None   \n",
            "31    sigmoid       sgd                                               None   \n",
            "32    sigmoid       sgd  <keras.src.regularizers.regularizers.L1 object...   \n",
            "33    sigmoid       sgd  <keras.src.regularizers.regularizers.L1 object...   \n",
            "34    sigmoid       sgd  <keras.src.regularizers.regularizers.L2 object...   \n",
            "19       tanh       sgd                                               None   \n",
            "18       tanh       sgd                                               None   \n",
            "17       tanh      adam  <keras.src.regularizers.regularizers.L2 object...   \n",
            "8        relu       sgd  <keras.src.regularizers.regularizers.L1 object...   \n",
            "2        relu      adam  <keras.src.regularizers.regularizers.L1 object...   \n",
            "3        relu      adam  <keras.src.regularizers.regularizers.L1 object...   \n",
            "4        relu      adam  <keras.src.regularizers.regularizers.L2 object...   \n",
            "5        relu      adam  <keras.src.regularizers.regularizers.L2 object...   \n",
            "6        relu       sgd                                               None   \n",
            "7        relu       sgd                                               None   \n",
            "9        relu       sgd  <keras.src.regularizers.regularizers.L1 object...   \n",
            "16       tanh      adam  <keras.src.regularizers.regularizers.L2 object...   \n",
            "10       relu       sgd  <keras.src.regularizers.regularizers.L2 object...   \n",
            "11       relu       sgd  <keras.src.regularizers.regularizers.L2 object...   \n",
            "12       tanh      adam                                               None   \n",
            "13       tanh      adam                                               None   \n",
            "14       tanh      adam  <keras.src.regularizers.regularizers.L1 object...   \n",
            "15       tanh      adam  <keras.src.regularizers.regularizers.L1 object...   \n",
            "35    sigmoid       sgd  <keras.src.regularizers.regularizers.L2 object...   \n",
            "\n",
            "    Dropout  Accuracy  Precision  Recall  F1-score  \n",
            "0       0.0  0.407609        0.0     0.0       0.0  \n",
            "1       0.3  0.407609        0.0     0.0       0.0  \n",
            "20      0.0  0.407609        0.0     0.0       0.0  \n",
            "21      0.3  0.407609        0.0     0.0       0.0  \n",
            "22      0.0  0.407609        0.0     0.0       0.0  \n",
            "23      0.3  0.407609        0.0     0.0       0.0  \n",
            "24      0.0  0.407609        0.0     0.0       0.0  \n",
            "25      0.3  0.407609        0.0     0.0       0.0  \n",
            "26      0.0  0.407609        0.0     0.0       0.0  \n",
            "27      0.3  0.407609        0.0     0.0       0.0  \n",
            "28      0.0  0.407609        0.0     0.0       0.0  \n",
            "29      0.3  0.407609        0.0     0.0       0.0  \n",
            "30      0.0  0.407609        0.0     0.0       0.0  \n",
            "31      0.3  0.407609        0.0     0.0       0.0  \n",
            "32      0.0  0.407609        0.0     0.0       0.0  \n",
            "33      0.3  0.407609        0.0     0.0       0.0  \n",
            "34      0.0  0.407609        0.0     0.0       0.0  \n",
            "19      0.3  0.407609        0.0     0.0       0.0  \n",
            "18      0.0  0.407609        0.0     0.0       0.0  \n",
            "17      0.3  0.407609        0.0     0.0       0.0  \n",
            "8       0.0  0.407609        0.0     0.0       0.0  \n",
            "2       0.0  0.407609        0.0     0.0       0.0  \n",
            "3       0.3  0.407609        0.0     0.0       0.0  \n",
            "4       0.0  0.407609        0.0     0.0       0.0  \n",
            "5       0.3  0.407609        0.0     0.0       0.0  \n",
            "6       0.0  0.407609        0.0     0.0       0.0  \n",
            "7       0.3  0.407609        0.0     0.0       0.0  \n",
            "9       0.3  0.407609        0.0     0.0       0.0  \n",
            "16      0.0  0.407609        0.0     0.0       0.0  \n",
            "10      0.0  0.407609        0.0     0.0       0.0  \n",
            "11      0.3  0.407609        0.0     0.0       0.0  \n",
            "12      0.0  0.407609        0.0     0.0       0.0  \n",
            "13      0.3  0.407609        0.0     0.0       0.0  \n",
            "14      0.0  0.407609        0.0     0.0       0.0  \n",
            "15      0.3  0.407609        0.0     0.0       0.0  \n",
            "35      0.3  0.407609        0.0     0.0       0.0  \n"
          ]
        }
      ]
    },
    {
      "cell_type": "code",
      "source": [
        "import numpy as np\n",
        "import pandas as pd\n",
        "import tensorflow as tf\n",
        "from tensorflow import keras\n",
        "from tensorflow.keras.models import Sequential\n",
        "from tensorflow.keras.layers import Dense, Dropout, Input, BatchNormalization\n",
        "from tensorflow.keras.regularizers import l2\n",
        "from tensorflow.keras.optimizers import Adam, AdamW, RMSprop\n",
        "from tensorflow.keras.callbacks import EarlyStopping, ReduceLROnPlateau\n",
        "from tensorflow_addons.losses import SigmoidFocalCrossEntropy\n",
        "from sklearn.model_selection import train_test_split\n",
        "from sklearn.preprocessing import StandardScaler, OneHotEncoder\n",
        "from sklearn.metrics import accuracy_score, precision_score, recall_score, f1_score, confusion_matrix, roc_curve\n",
        "from sklearn.utils.class_weight import compute_class_weight\n",
        "from imblearn.over_sampling import SMOTE"
      ],
      "metadata": {
        "id": "J-7Dvstaqj09"
      },
      "execution_count": 45,
      "outputs": []
    },
    {
      "cell_type": "code",
      "source": [
        "# Convert labels to float32\n",
        "y_train_bin = y_train_bin.astype(np.float32)\n",
        "y_test_bin = y_test_bin.astype(np.float32)\n",
        "\n",
        "# Convert features to float32\n",
        "X_train_bin = X_train_bin.astype(np.float32)\n",
        "X_test_bin = X_test_bin.astype(np.float32)\n"
      ],
      "metadata": {
        "id": "7o-dUjuuuySK"
      },
      "execution_count": 47,
      "outputs": []
    },
    {
      "cell_type": "code",
      "source": [
        "# Drop unnecessary columns\n",
        "df = df.drop(columns=['id'], errors='ignore')\n",
        "\n",
        "# Handling missing values\n",
        "categorical_cols = ['sex', 'cp', 'restecg', 'exang', 'slope', 'thal']\n",
        "numerical_cols = ['trestbps', 'chol', 'thalach', 'oldpeak', 'ca']\n",
        "\n",
        "available_categorical_cols = [col for col in categorical_cols if col in df.columns]\n",
        "available_numerical_cols = [col for col in numerical_cols if col in df.columns]\n",
        "\n",
        "if available_categorical_cols:\n",
        "    df[available_categorical_cols] = df[available_categorical_cols].fillna(df[available_categorical_cols].mode().iloc[0])\n",
        "\n",
        "if available_numerical_cols:\n",
        "    df[available_numerical_cols] = df[available_numerical_cols].fillna(df[available_numerical_cols].median())\n",
        "\n",
        "# One-Hot Encoding for categorical variables\n",
        "df = pd.get_dummies(df, columns=available_categorical_cols, drop_first=True)\n",
        "\n",
        "# Standardizing numerical features\n",
        "scaler = StandardScaler()\n",
        "if available_numerical_cols:\n",
        "    df[available_numerical_cols] = scaler.fit_transform(df[available_numerical_cols])\n",
        "\n",
        "# Convert all columns to numeric\n",
        "df = df.apply(pd.to_numeric)\n",
        "\n",
        "# Binary Classification Dataset\n",
        "df_binary = df.copy()\n",
        "df_binary['num'] = df_binary['num'].apply(lambda x: 1 if x > 0 else 0)\n",
        "\n",
        "# Multi-Class Dataset (if applicable)\n",
        "df_multi = df.copy()\n",
        "\n",
        "# Splitting Binary Data\n",
        "X_bin = df_binary.drop(columns=['num'])\n",
        "y_bin = df_binary['num']\n",
        "X_train_bin, X_test_bin, y_train_bin, y_test_bin = train_test_split(X_bin, y_bin, test_size=0.2, random_state=42)\n",
        "\n",
        "# Handle Class Imbalance using SMOTE\n",
        "smote = SMOTE(sampling_strategy='auto', random_state=42)\n",
        "X_train_bin, y_train_bin = smote.fit_resample(X_train_bin, y_train_bin)"
      ],
      "metadata": {
        "id": "KvSDxAbCu0ew"
      },
      "execution_count": 53,
      "outputs": []
    },
    {
      "cell_type": "code",
      "source": [
        "# Compute Class Weights\n",
        "class_weights = compute_class_weight(class_weight=\"balanced\", classes=np.unique(y_train_bin), y=y_train_bin.ravel())\n",
        "class_weights = {int(cls): weight for cls, weight in zip(np.unique(y_train_bin), class_weights)}"
      ],
      "metadata": {
        "id": "kwbWzrEmwE7t"
      },
      "execution_count": 58,
      "outputs": []
    },
    {
      "cell_type": "code",
      "source": [
        "import numpy as np\n",
        "from sklearn.utils.class_weight import compute_class_weight\n",
        "\n",
        "# Ensure y_train_bin is a 1D NumPy array of integers\n",
        "y_train_bin = np.array(y_train_bin).flatten().astype(int)\n",
        "y_test_bin = np.array(y_test_bin).flatten().astype(int)\n",
        "\n",
        "# Compute Class Weights (Fixing Unhashable Type Error)\n",
        "class_weights = compute_class_weight(\n",
        "    class_weight=\"balanced\",\n",
        "    classes=np.unique(y_train_bin),\n",
        "    y=y_train_bin.tolist()  # Convert to list\n",
        ")\n",
        "\n",
        "# Convert to dictionary format\n",
        "class_weights = {cls: weight for cls, weight in zip(np.unique(y_train_bin), class_weights)}\n",
        "\n",
        "# Print class weights\n",
        "print(\"Class Weights:\", class_weights)\n"
      ],
      "metadata": {
        "colab": {
          "base_uri": "https://localhost:8080/"
        },
        "id": "8CKng0TAwPYd",
        "outputId": "6d573f72-0779-4203-8290-1ad946a9d9b4"
      },
      "execution_count": 64,
      "outputs": [
        {
          "output_type": "stream",
          "name": "stdout",
          "text": [
            "Class Weights: {0: 1.0, 1: 1.0}\n"
          ]
        }
      ]
    },
    {
      "cell_type": "code",
      "source": [
        "print(\"Binary Labels Sample:\", y_train_bin[:10])\n",
        "print(\"Multi-Class Labels Sample:\", y_train_multi[:10])"
      ],
      "metadata": {
        "colab": {
          "base_uri": "https://localhost:8080/"
        },
        "id": "piD6CbtmxLQ_",
        "outputId": "0798806c-8f12-4085-96c0-056e412a0813"
      },
      "execution_count": 66,
      "outputs": [
        {
          "output_type": "stream",
          "name": "stdout",
          "text": [
            "Binary Labels Sample: [[1.]\n",
            " [0.]\n",
            " [1.]\n",
            " [0.]\n",
            " [0.]\n",
            " [0.]\n",
            " [0.]\n",
            " [1.]\n",
            " [1.]\n",
            " [1.]]\n",
            "Multi-Class Labels Sample: 880    4\n",
            "457    0\n",
            "797    3\n",
            "25     0\n",
            "84     0\n",
            "10     0\n",
            "346    0\n",
            "548    1\n",
            "636    2\n",
            "594    1\n",
            "Name: num, dtype: int64\n"
          ]
        }
      ]
    },
    {
      "cell_type": "code",
      "source": [
        "print(\"X_train_bin Shape:\", X_train_bin.shape)\n",
        "print(\"y_train_bin Shape:\", y_train_bin.shape)\n",
        "print(\"X_train_multi Shape:\", X_train_multi.shape)\n",
        "print(\"y_train_multi Shape:\", y_train_multi.shape)"
      ],
      "metadata": {
        "colab": {
          "base_uri": "https://localhost:8080/"
        },
        "id": "0IuDvGDmxTVs",
        "outputId": "7a25c0f8-9e3f-4f8a-ce9e-4b3425df9145"
      },
      "execution_count": 67,
      "outputs": [
        {
          "output_type": "stream",
          "name": "stdout",
          "text": [
            "X_train_bin Shape: (800, 18)\n",
            "y_train_bin Shape: (800, 1)\n",
            "X_train_multi Shape: (736, 18)\n",
            "y_train_multi Shape: (736,)\n"
          ]
        }
      ]
    },
    {
      "cell_type": "code",
      "source": [
        "from sklearn.utils.class_weight import compute_class_weight\n",
        "import numpy as np\n",
        "\n",
        "# Ensure y_train_bin is 1D\n",
        "y_train_bin_1d = y_train_bin.ravel()\n",
        "\n",
        "# Compute Class Weights\n",
        "class_weights = compute_class_weight(class_weight=\"balanced\", classes=np.unique(y_train_bin_1d), y=y_train_bin_1d)\n",
        "class_weights = {int(cls): weight for cls, weight in zip(np.unique(y_train_bin_1d), class_weights)}\n",
        "\n",
        "print(\"Computed Class Weights:\", class_weights)"
      ],
      "metadata": {
        "colab": {
          "base_uri": "https://localhost:8080/"
        },
        "id": "SZMoCY2BxddR",
        "outputId": "ea22a652-6fb2-41d5-b726-d44b5fdc5a8d"
      },
      "execution_count": 68,
      "outputs": [
        {
          "output_type": "stream",
          "name": "stdout",
          "text": [
            "Computed Class Weights: {0: 1.0, 1: 1.0}\n"
          ]
        }
      ]
    },
    {
      "cell_type": "code",
      "source": [
        "from tensorflow.keras.utils import to_categorical\n",
        "\n",
        "# Convert y_train_multi to categorical\n",
        "num_classes = len(np.unique(y_train_multi))\n",
        "y_train_multi_encoded = to_categorical(y_train_multi, num_classes=num_classes)\n",
        "y_test_multi_encoded = to_categorical(y_test_multi, num_classes=num_classes)\n",
        "\n",
        "print(\"Shape after encoding:\", y_train_multi_encoded.shape)  # Should be (736, num_classes)"
      ],
      "metadata": {
        "colab": {
          "base_uri": "https://localhost:8080/"
        },
        "id": "wF3WLWPGxl0_",
        "outputId": "14dac269-7a3e-423d-e968-842c03c3591f"
      },
      "execution_count": 69,
      "outputs": [
        {
          "output_type": "stream",
          "name": "stdout",
          "text": [
            "Shape after encoding: (736, 5)\n"
          ]
        }
      ]
    },
    {
      "cell_type": "code",
      "source": [
        "from sklearn.preprocessing import StandardScaler\n",
        "\n",
        "scaler = StandardScaler()\n",
        "X_train_bin = scaler.fit_transform(X_train_bin)\n",
        "X_test_bin = scaler.transform(X_test_bin)\n",
        "\n",
        "X_train_multi = scaler.fit_transform(X_train_multi)\n",
        "X_test_multi = scaler.transform(X_test_multi)"
      ],
      "metadata": {
        "id": "2Vyh1L1wxtOr"
      },
      "execution_count": 70,
      "outputs": []
    },
    {
      "cell_type": "markdown",
      "source": [
        "Binary Classification Model"
      ],
      "metadata": {
        "id": "4xFYVDnuyAHx"
      }
    },
    {
      "cell_type": "code",
      "source": [
        "from tensorflow.keras.models import Sequential\n",
        "from tensorflow.keras.layers import Dense, Dropout\n",
        "from tensorflow.keras.optimizers import Adam\n",
        "\n",
        "# Binary Classification Model\n",
        "binary_model = Sequential([\n",
        "    Dense(64, activation='relu', input_shape=(X_train_bin.shape[1],)),\n",
        "    Dropout(0.3),\n",
        "    Dense(32, activation='relu'),\n",
        "    Dropout(0.3),\n",
        "    Dense(1, activation='sigmoid')  # Sigmoid for binary classification\n",
        "])\n",
        "\n",
        "binary_model.compile(optimizer=Adam(learning_rate=0.001), loss='binary_crossentropy', metrics=['accuracy'])\n",
        "\n",
        "# Train Model\n",
        "history_bin = binary_model.fit(X_train_bin, y_train_bin, epochs=50, batch_size=32, validation_data=(X_test_bin, y_test_bin))"
      ],
      "metadata": {
        "colab": {
          "base_uri": "https://localhost:8080/"
        },
        "id": "B9ArbzSQun-t",
        "outputId": "eb763206-0ed3-4c30-a6ca-ecb281859b51"
      },
      "execution_count": 71,
      "outputs": [
        {
          "output_type": "stream",
          "name": "stdout",
          "text": [
            "Epoch 1/50\n",
            "25/25 [==============================] - 4s 25ms/step - loss: 0.7109 - accuracy: 0.5350 - val_loss: 0.5788 - val_accuracy: 0.7174\n",
            "Epoch 2/50\n",
            "25/25 [==============================] - 0s 7ms/step - loss: 0.5378 - accuracy: 0.7375 - val_loss: 0.4809 - val_accuracy: 0.8098\n",
            "Epoch 3/50\n",
            "25/25 [==============================] - 0s 7ms/step - loss: 0.4889 - accuracy: 0.7837 - val_loss: 0.4285 - val_accuracy: 0.8370\n",
            "Epoch 4/50\n",
            "25/25 [==============================] - 0s 6ms/step - loss: 0.4637 - accuracy: 0.7987 - val_loss: 0.4117 - val_accuracy: 0.8370\n",
            "Epoch 5/50\n",
            "25/25 [==============================] - 0s 7ms/step - loss: 0.4338 - accuracy: 0.8138 - val_loss: 0.4103 - val_accuracy: 0.8261\n",
            "Epoch 6/50\n",
            "25/25 [==============================] - 0s 6ms/step - loss: 0.4104 - accuracy: 0.8225 - val_loss: 0.4087 - val_accuracy: 0.8207\n",
            "Epoch 7/50\n",
            "25/25 [==============================] - 0s 6ms/step - loss: 0.3823 - accuracy: 0.8375 - val_loss: 0.4045 - val_accuracy: 0.8207\n",
            "Epoch 8/50\n",
            "25/25 [==============================] - 0s 9ms/step - loss: 0.4000 - accuracy: 0.8300 - val_loss: 0.4094 - val_accuracy: 0.8152\n",
            "Epoch 9/50\n",
            "25/25 [==============================] - 0s 7ms/step - loss: 0.3822 - accuracy: 0.8500 - val_loss: 0.4016 - val_accuracy: 0.8152\n",
            "Epoch 10/50\n",
            "25/25 [==============================] - 0s 4ms/step - loss: 0.3875 - accuracy: 0.8325 - val_loss: 0.4036 - val_accuracy: 0.8261\n",
            "Epoch 11/50\n",
            "25/25 [==============================] - 0s 3ms/step - loss: 0.3772 - accuracy: 0.8512 - val_loss: 0.4120 - val_accuracy: 0.8207\n",
            "Epoch 12/50\n",
            "25/25 [==============================] - 0s 4ms/step - loss: 0.3716 - accuracy: 0.8487 - val_loss: 0.4003 - val_accuracy: 0.8152\n",
            "Epoch 13/50\n",
            "25/25 [==============================] - 0s 3ms/step - loss: 0.3616 - accuracy: 0.8500 - val_loss: 0.4012 - val_accuracy: 0.8261\n",
            "Epoch 14/50\n",
            "25/25 [==============================] - 0s 4ms/step - loss: 0.3655 - accuracy: 0.8550 - val_loss: 0.4114 - val_accuracy: 0.8207\n",
            "Epoch 15/50\n",
            "25/25 [==============================] - 0s 3ms/step - loss: 0.3659 - accuracy: 0.8525 - val_loss: 0.4009 - val_accuracy: 0.8261\n",
            "Epoch 16/50\n",
            "25/25 [==============================] - 0s 4ms/step - loss: 0.3731 - accuracy: 0.8462 - val_loss: 0.4014 - val_accuracy: 0.8315\n",
            "Epoch 17/50\n",
            "25/25 [==============================] - 0s 4ms/step - loss: 0.3522 - accuracy: 0.8562 - val_loss: 0.4093 - val_accuracy: 0.8207\n",
            "Epoch 18/50\n",
            "25/25 [==============================] - 0s 4ms/step - loss: 0.3539 - accuracy: 0.8537 - val_loss: 0.4027 - val_accuracy: 0.8261\n",
            "Epoch 19/50\n",
            "25/25 [==============================] - 0s 4ms/step - loss: 0.3387 - accuracy: 0.8687 - val_loss: 0.4023 - val_accuracy: 0.8315\n",
            "Epoch 20/50\n",
            "25/25 [==============================] - 0s 3ms/step - loss: 0.3515 - accuracy: 0.8525 - val_loss: 0.3998 - val_accuracy: 0.8370\n",
            "Epoch 21/50\n",
            "25/25 [==============================] - 0s 3ms/step - loss: 0.3412 - accuracy: 0.8600 - val_loss: 0.4044 - val_accuracy: 0.8315\n",
            "Epoch 22/50\n",
            "25/25 [==============================] - 0s 4ms/step - loss: 0.3385 - accuracy: 0.8637 - val_loss: 0.4094 - val_accuracy: 0.8261\n",
            "Epoch 23/50\n",
            "25/25 [==============================] - 0s 4ms/step - loss: 0.3333 - accuracy: 0.8700 - val_loss: 0.4047 - val_accuracy: 0.8315\n",
            "Epoch 24/50\n",
            "25/25 [==============================] - 0s 4ms/step - loss: 0.3260 - accuracy: 0.8575 - val_loss: 0.4018 - val_accuracy: 0.8315\n",
            "Epoch 25/50\n",
            "25/25 [==============================] - 0s 3ms/step - loss: 0.3600 - accuracy: 0.8475 - val_loss: 0.4019 - val_accuracy: 0.8315\n",
            "Epoch 26/50\n",
            "25/25 [==============================] - 0s 3ms/step - loss: 0.3428 - accuracy: 0.8763 - val_loss: 0.4055 - val_accuracy: 0.8261\n",
            "Epoch 27/50\n",
            "25/25 [==============================] - 0s 4ms/step - loss: 0.3285 - accuracy: 0.8562 - val_loss: 0.4059 - val_accuracy: 0.8261\n",
            "Epoch 28/50\n",
            "25/25 [==============================] - 0s 5ms/step - loss: 0.3220 - accuracy: 0.8700 - val_loss: 0.3990 - val_accuracy: 0.8315\n",
            "Epoch 29/50\n",
            "25/25 [==============================] - 0s 3ms/step - loss: 0.3256 - accuracy: 0.8675 - val_loss: 0.3992 - val_accuracy: 0.8315\n",
            "Epoch 30/50\n",
            "25/25 [==============================] - 0s 4ms/step - loss: 0.3293 - accuracy: 0.8662 - val_loss: 0.4003 - val_accuracy: 0.8370\n",
            "Epoch 31/50\n",
            "25/25 [==============================] - 0s 3ms/step - loss: 0.3266 - accuracy: 0.8763 - val_loss: 0.3992 - val_accuracy: 0.8370\n",
            "Epoch 32/50\n",
            "25/25 [==============================] - 0s 4ms/step - loss: 0.3166 - accuracy: 0.8637 - val_loss: 0.4024 - val_accuracy: 0.8315\n",
            "Epoch 33/50\n",
            "25/25 [==============================] - 0s 4ms/step - loss: 0.3325 - accuracy: 0.8587 - val_loss: 0.4071 - val_accuracy: 0.8261\n",
            "Epoch 34/50\n",
            "25/25 [==============================] - 0s 4ms/step - loss: 0.3143 - accuracy: 0.8625 - val_loss: 0.4026 - val_accuracy: 0.8261\n",
            "Epoch 35/50\n",
            "25/25 [==============================] - 0s 3ms/step - loss: 0.3253 - accuracy: 0.8712 - val_loss: 0.3967 - val_accuracy: 0.8315\n",
            "Epoch 36/50\n",
            "25/25 [==============================] - 0s 4ms/step - loss: 0.3149 - accuracy: 0.8737 - val_loss: 0.3981 - val_accuracy: 0.8261\n",
            "Epoch 37/50\n",
            "25/25 [==============================] - 0s 4ms/step - loss: 0.3082 - accuracy: 0.8750 - val_loss: 0.3980 - val_accuracy: 0.8315\n",
            "Epoch 38/50\n",
            "25/25 [==============================] - 0s 5ms/step - loss: 0.3195 - accuracy: 0.8662 - val_loss: 0.3940 - val_accuracy: 0.8370\n",
            "Epoch 39/50\n",
            "25/25 [==============================] - 0s 4ms/step - loss: 0.3210 - accuracy: 0.8687 - val_loss: 0.3967 - val_accuracy: 0.8370\n",
            "Epoch 40/50\n",
            "25/25 [==============================] - 0s 4ms/step - loss: 0.3008 - accuracy: 0.8875 - val_loss: 0.4005 - val_accuracy: 0.8370\n",
            "Epoch 41/50\n",
            "25/25 [==============================] - 0s 4ms/step - loss: 0.3085 - accuracy: 0.8737 - val_loss: 0.4008 - val_accuracy: 0.8315\n",
            "Epoch 42/50\n",
            "25/25 [==============================] - 0s 3ms/step - loss: 0.3118 - accuracy: 0.8775 - val_loss: 0.4037 - val_accuracy: 0.8370\n",
            "Epoch 43/50\n",
            "25/25 [==============================] - 0s 4ms/step - loss: 0.2969 - accuracy: 0.8863 - val_loss: 0.4052 - val_accuracy: 0.8370\n",
            "Epoch 44/50\n",
            "25/25 [==============================] - 0s 3ms/step - loss: 0.3069 - accuracy: 0.8725 - val_loss: 0.4013 - val_accuracy: 0.8424\n",
            "Epoch 45/50\n",
            "25/25 [==============================] - 0s 3ms/step - loss: 0.2972 - accuracy: 0.8737 - val_loss: 0.4154 - val_accuracy: 0.8315\n",
            "Epoch 46/50\n",
            "25/25 [==============================] - 0s 4ms/step - loss: 0.2822 - accuracy: 0.8850 - val_loss: 0.4124 - val_accuracy: 0.8424\n",
            "Epoch 47/50\n",
            "25/25 [==============================] - 0s 4ms/step - loss: 0.2989 - accuracy: 0.8775 - val_loss: 0.4047 - val_accuracy: 0.8315\n",
            "Epoch 48/50\n",
            "25/25 [==============================] - 0s 4ms/step - loss: 0.2881 - accuracy: 0.8963 - val_loss: 0.4107 - val_accuracy: 0.8261\n",
            "Epoch 49/50\n",
            "25/25 [==============================] - 0s 5ms/step - loss: 0.3022 - accuracy: 0.8763 - val_loss: 0.4126 - val_accuracy: 0.8315\n",
            "Epoch 50/50\n",
            "25/25 [==============================] - 0s 4ms/step - loss: 0.3049 - accuracy: 0.8800 - val_loss: 0.4059 - val_accuracy: 0.8370\n"
          ]
        }
      ]
    },
    {
      "cell_type": "markdown",
      "source": [
        "Multi-Class Classification Model"
      ],
      "metadata": {
        "id": "R_3KCe12yLMp"
      }
    },
    {
      "cell_type": "code",
      "source": [
        "# Multi-Class Classification Model\n",
        "multi_model = Sequential([\n",
        "    Dense(128, activation='relu', input_shape=(X_train_multi.shape[1],)),\n",
        "    Dropout(0.3),\n",
        "    Dense(64, activation='relu'),\n",
        "    Dropout(0.3),\n",
        "    Dense(num_classes, activation='softmax')  # Softmax for multi-class classification\n",
        "])\n",
        "\n",
        "multi_model.compile(optimizer=Adam(learning_rate=0.001), loss='categorical_crossentropy', metrics=['accuracy'])\n",
        "\n",
        "# Train Model\n",
        "history_multi = multi_model.fit(X_train_multi, y_train_multi_encoded, epochs=50, batch_size=32, validation_data=(X_test_multi, y_test_multi_encoded))\n"
      ],
      "metadata": {
        "colab": {
          "base_uri": "https://localhost:8080/"
        },
        "id": "zFBR-n1wyFPI",
        "outputId": "8b5a829f-45b3-4d8a-a130-d1cd19ff5d4d"
      },
      "execution_count": 72,
      "outputs": [
        {
          "output_type": "stream",
          "name": "stdout",
          "text": [
            "Epoch 1/50\n",
            "23/23 [==============================] - 2s 21ms/step - loss: 1.4555 - accuracy: 0.3845 - val_loss: 1.2657 - val_accuracy: 0.4891\n",
            "Epoch 2/50\n",
            "23/23 [==============================] - 0s 6ms/step - loss: 1.1778 - accuracy: 0.5408 - val_loss: 1.1344 - val_accuracy: 0.5380\n",
            "Epoch 3/50\n",
            "23/23 [==============================] - 0s 6ms/step - loss: 1.0930 - accuracy: 0.5543 - val_loss: 1.0743 - val_accuracy: 0.5326\n",
            "Epoch 4/50\n",
            "23/23 [==============================] - 0s 7ms/step - loss: 1.0247 - accuracy: 0.5897 - val_loss: 1.0519 - val_accuracy: 0.5217\n",
            "Epoch 5/50\n",
            "23/23 [==============================] - 0s 6ms/step - loss: 1.0004 - accuracy: 0.6073 - val_loss: 1.0468 - val_accuracy: 0.5272\n",
            "Epoch 6/50\n",
            "23/23 [==============================] - 0s 6ms/step - loss: 0.9635 - accuracy: 0.6196 - val_loss: 1.0500 - val_accuracy: 0.5435\n",
            "Epoch 7/50\n",
            "23/23 [==============================] - 0s 6ms/step - loss: 0.9640 - accuracy: 0.6033 - val_loss: 1.0516 - val_accuracy: 0.5489\n",
            "Epoch 8/50\n",
            "23/23 [==============================] - 0s 6ms/step - loss: 0.9720 - accuracy: 0.5965 - val_loss: 1.0529 - val_accuracy: 0.5489\n",
            "Epoch 9/50\n",
            "23/23 [==============================] - 0s 7ms/step - loss: 0.9531 - accuracy: 0.6332 - val_loss: 1.0553 - val_accuracy: 0.5543\n",
            "Epoch 10/50\n",
            "23/23 [==============================] - 0s 7ms/step - loss: 0.9276 - accuracy: 0.6277 - val_loss: 1.0613 - val_accuracy: 0.5489\n",
            "Epoch 11/50\n",
            "23/23 [==============================] - 0s 6ms/step - loss: 0.9146 - accuracy: 0.6386 - val_loss: 1.0674 - val_accuracy: 0.5489\n",
            "Epoch 12/50\n",
            "23/23 [==============================] - 0s 6ms/step - loss: 0.8990 - accuracy: 0.6318 - val_loss: 1.0673 - val_accuracy: 0.5380\n",
            "Epoch 13/50\n",
            "23/23 [==============================] - 0s 6ms/step - loss: 0.8950 - accuracy: 0.6304 - val_loss: 1.0674 - val_accuracy: 0.5598\n",
            "Epoch 14/50\n",
            "23/23 [==============================] - 0s 5ms/step - loss: 0.9012 - accuracy: 0.6372 - val_loss: 1.0777 - val_accuracy: 0.5489\n",
            "Epoch 15/50\n",
            "23/23 [==============================] - 0s 4ms/step - loss: 0.8841 - accuracy: 0.6440 - val_loss: 1.0689 - val_accuracy: 0.5489\n",
            "Epoch 16/50\n",
            "23/23 [==============================] - 0s 4ms/step - loss: 0.8599 - accuracy: 0.6413 - val_loss: 1.0704 - val_accuracy: 0.5435\n",
            "Epoch 17/50\n",
            "23/23 [==============================] - 0s 5ms/step - loss: 0.8819 - accuracy: 0.6277 - val_loss: 1.0766 - val_accuracy: 0.5489\n",
            "Epoch 18/50\n",
            "23/23 [==============================] - 0s 4ms/step - loss: 0.8759 - accuracy: 0.6372 - val_loss: 1.0766 - val_accuracy: 0.5435\n",
            "Epoch 19/50\n",
            "23/23 [==============================] - 0s 4ms/step - loss: 0.8413 - accuracy: 0.6617 - val_loss: 1.0660 - val_accuracy: 0.5543\n",
            "Epoch 20/50\n",
            "23/23 [==============================] - 0s 4ms/step - loss: 0.8358 - accuracy: 0.6291 - val_loss: 1.0824 - val_accuracy: 0.5489\n",
            "Epoch 21/50\n",
            "23/23 [==============================] - 0s 4ms/step - loss: 0.8276 - accuracy: 0.6726 - val_loss: 1.0701 - val_accuracy: 0.5489\n",
            "Epoch 22/50\n",
            "23/23 [==============================] - 0s 3ms/step - loss: 0.8293 - accuracy: 0.6522 - val_loss: 1.0805 - val_accuracy: 0.5598\n",
            "Epoch 23/50\n",
            "23/23 [==============================] - 0s 3ms/step - loss: 0.8382 - accuracy: 0.6549 - val_loss: 1.0892 - val_accuracy: 0.5489\n",
            "Epoch 24/50\n",
            "23/23 [==============================] - 0s 3ms/step - loss: 0.8337 - accuracy: 0.6549 - val_loss: 1.0719 - val_accuracy: 0.5489\n",
            "Epoch 25/50\n",
            "23/23 [==============================] - 0s 3ms/step - loss: 0.8241 - accuracy: 0.6739 - val_loss: 1.0816 - val_accuracy: 0.5489\n",
            "Epoch 26/50\n",
            "23/23 [==============================] - 0s 4ms/step - loss: 0.8252 - accuracy: 0.6671 - val_loss: 1.0766 - val_accuracy: 0.5598\n",
            "Epoch 27/50\n",
            "23/23 [==============================] - 0s 4ms/step - loss: 0.8139 - accuracy: 0.6644 - val_loss: 1.0924 - val_accuracy: 0.5435\n",
            "Epoch 28/50\n",
            "23/23 [==============================] - 0s 5ms/step - loss: 0.8079 - accuracy: 0.6726 - val_loss: 1.0877 - val_accuracy: 0.5543\n",
            "Epoch 29/50\n",
            "23/23 [==============================] - 0s 7ms/step - loss: 0.7941 - accuracy: 0.6658 - val_loss: 1.0837 - val_accuracy: 0.5598\n",
            "Epoch 30/50\n",
            "23/23 [==============================] - 0s 6ms/step - loss: 0.7841 - accuracy: 0.6712 - val_loss: 1.1020 - val_accuracy: 0.5652\n",
            "Epoch 31/50\n",
            "23/23 [==============================] - 0s 6ms/step - loss: 0.7640 - accuracy: 0.6984 - val_loss: 1.1169 - val_accuracy: 0.5489\n",
            "Epoch 32/50\n",
            "23/23 [==============================] - 0s 5ms/step - loss: 0.7872 - accuracy: 0.6726 - val_loss: 1.0958 - val_accuracy: 0.5598\n",
            "Epoch 33/50\n",
            "23/23 [==============================] - 0s 5ms/step - loss: 0.7844 - accuracy: 0.6821 - val_loss: 1.0926 - val_accuracy: 0.5489\n",
            "Epoch 34/50\n",
            "23/23 [==============================] - 0s 5ms/step - loss: 0.7735 - accuracy: 0.6916 - val_loss: 1.1087 - val_accuracy: 0.5489\n",
            "Epoch 35/50\n",
            "23/23 [==============================] - 0s 6ms/step - loss: 0.7764 - accuracy: 0.6739 - val_loss: 1.0886 - val_accuracy: 0.5652\n",
            "Epoch 36/50\n",
            "23/23 [==============================] - 0s 6ms/step - loss: 0.7548 - accuracy: 0.6916 - val_loss: 1.1022 - val_accuracy: 0.5489\n",
            "Epoch 37/50\n",
            "23/23 [==============================] - 0s 6ms/step - loss: 0.7525 - accuracy: 0.7106 - val_loss: 1.0993 - val_accuracy: 0.5598\n",
            "Epoch 38/50\n",
            "23/23 [==============================] - 0s 5ms/step - loss: 0.7620 - accuracy: 0.6834 - val_loss: 1.1063 - val_accuracy: 0.5543\n",
            "Epoch 39/50\n",
            "23/23 [==============================] - 0s 5ms/step - loss: 0.7577 - accuracy: 0.6984 - val_loss: 1.1082 - val_accuracy: 0.5652\n",
            "Epoch 40/50\n",
            "23/23 [==============================] - 0s 5ms/step - loss: 0.7401 - accuracy: 0.7106 - val_loss: 1.1060 - val_accuracy: 0.5761\n",
            "Epoch 41/50\n",
            "23/23 [==============================] - 0s 5ms/step - loss: 0.7437 - accuracy: 0.6916 - val_loss: 1.1125 - val_accuracy: 0.5652\n",
            "Epoch 42/50\n",
            "23/23 [==============================] - 0s 6ms/step - loss: 0.7419 - accuracy: 0.6875 - val_loss: 1.1372 - val_accuracy: 0.5598\n",
            "Epoch 43/50\n",
            "23/23 [==============================] - 0s 7ms/step - loss: 0.7509 - accuracy: 0.7052 - val_loss: 1.1315 - val_accuracy: 0.5543\n",
            "Epoch 44/50\n",
            "23/23 [==============================] - 0s 6ms/step - loss: 0.7344 - accuracy: 0.6943 - val_loss: 1.1321 - val_accuracy: 0.5598\n",
            "Epoch 45/50\n",
            "23/23 [==============================] - 0s 6ms/step - loss: 0.7161 - accuracy: 0.7052 - val_loss: 1.1242 - val_accuracy: 0.5707\n",
            "Epoch 46/50\n",
            "23/23 [==============================] - 0s 6ms/step - loss: 0.7087 - accuracy: 0.7215 - val_loss: 1.1408 - val_accuracy: 0.5707\n",
            "Epoch 47/50\n",
            "23/23 [==============================] - 0s 6ms/step - loss: 0.6922 - accuracy: 0.7133 - val_loss: 1.1366 - val_accuracy: 0.5652\n",
            "Epoch 48/50\n",
            "23/23 [==============================] - 0s 6ms/step - loss: 0.7049 - accuracy: 0.7079 - val_loss: 1.1379 - val_accuracy: 0.5652\n",
            "Epoch 49/50\n",
            "23/23 [==============================] - 0s 5ms/step - loss: 0.7018 - accuracy: 0.7065 - val_loss: 1.1589 - val_accuracy: 0.5598\n",
            "Epoch 50/50\n",
            "23/23 [==============================] - 0s 4ms/step - loss: 0.7179 - accuracy: 0.7052 - val_loss: 1.1328 - val_accuracy: 0.5598\n"
          ]
        }
      ]
    },
    {
      "cell_type": "code",
      "source": [
        "from tensorflow.keras.layers import LeakyReLU\n",
        "Dense(128, activation=LeakyReLU(alpha=0.1))"
      ],
      "metadata": {
        "colab": {
          "base_uri": "https://localhost:8080/"
        },
        "id": "Lu2XUuRhyhvI",
        "outputId": "7af6adfd-2a79-444c-ec37-ae38804ad6b1"
      },
      "execution_count": 74,
      "outputs": [
        {
          "output_type": "execute_result",
          "data": {
            "text/plain": [
              "<keras.src.layers.core.dense.Dense at 0x7a61444d2510>"
            ]
          },
          "metadata": {},
          "execution_count": 74
        }
      ]
    },
    {
      "cell_type": "code",
      "source": [
        "from tensorflow.keras.layers import Activation"
      ],
      "metadata": {
        "id": "eoCZyqEvytlO"
      },
      "execution_count": 76,
      "outputs": []
    },
    {
      "cell_type": "code",
      "source": [
        "Dense(128),\n",
        "BatchNormalization(),\n",
        "Activation('relu'),\n",
        "Dropout(0.2),"
      ],
      "metadata": {
        "colab": {
          "base_uri": "https://localhost:8080/"
        },
        "id": "Lv3sZyIHyjYE",
        "outputId": "914c1fe7-cae1-476c-b653-6517723a869c"
      },
      "execution_count": 77,
      "outputs": [
        {
          "output_type": "execute_result",
          "data": {
            "text/plain": [
              "(<keras.src.layers.regularization.dropout.Dropout at 0x7a613a85bc50>,)"
            ]
          },
          "metadata": {},
          "execution_count": 77
        }
      ]
    },
    {
      "cell_type": "code",
      "source": [
        "from sklearn.utils.class_weight import compute_class_weight\n",
        "class_weights = compute_class_weight(class_weight=\"balanced\", classes=np.unique(y_train_multi), y=y_train_multi)\n",
        "class_weights = {i: class_weights[i] for i in range(len(class_weights))}"
      ],
      "metadata": {
        "id": "OyhqODCMylJ4"
      },
      "execution_count": 78,
      "outputs": []
    },
    {
      "cell_type": "code",
      "source": [
        "# Evaluate Binary Model\n",
        "bin_loss, bin_acc = binary_model.evaluate(X_test_bin, y_test_bin)\n",
        "print(f\"Binary Classification Accuracy: {bin_acc*100:.2f}%\")\n",
        "\n",
        "# Evaluate Multi-Class Model\n",
        "multi_loss, multi_acc = multi_model.evaluate(X_test_multi, y_test_multi_encoded)\n",
        "print(f\"Multi-Class Classification Accuracy: {multi_acc*100:.2f}%\")"
      ],
      "metadata": {
        "colab": {
          "base_uri": "https://localhost:8080/"
        },
        "id": "9FAQovFIyM_H",
        "outputId": "87a8ddf5-66d1-4ff4-ce1a-dac87fe5fd3c"
      },
      "execution_count": 79,
      "outputs": [
        {
          "output_type": "stream",
          "name": "stdout",
          "text": [
            "6/6 [==============================] - 0s 3ms/step - loss: 0.4059 - accuracy: 0.8370\n",
            "Binary Classification Accuracy: 83.70%\n",
            "6/6 [==============================] - 0s 3ms/step - loss: 1.1328 - accuracy: 0.5598\n",
            "Multi-Class Classification Accuracy: 55.98%\n"
          ]
        }
      ]
    },
    {
      "cell_type": "code",
      "source": [
        "import numpy as np\n",
        "unique, counts = np.unique(y_train_multi, return_counts=True)\n",
        "print(dict(zip(unique, counts)))"
      ],
      "metadata": {
        "colab": {
          "base_uri": "https://localhost:8080/"
        },
        "id": "mVGSN0QOyQn7",
        "outputId": "1f479c9a-a2f1-43c8-f823-199ab1d8d353"
      },
      "execution_count": 80,
      "outputs": [
        {
          "output_type": "stream",
          "name": "stdout",
          "text": [
            "{0: 336, 1: 211, 2: 84, 3: 81, 4: 24}\n"
          ]
        }
      ]
    },
    {
      "cell_type": "code",
      "source": [
        "from sklearn.preprocessing import StandardScaler\n",
        "\n",
        "scaler = StandardScaler()\n",
        "X_train_multi = scaler.fit_transform(X_train_multi)\n",
        "X_test_multi = scaler.transform(X_test_multi)"
      ],
      "metadata": {
        "id": "mAGdDR_ey5kx"
      },
      "execution_count": 81,
      "outputs": []
    },
    {
      "cell_type": "code",
      "source": [
        "model_multi = tf.keras.Sequential([\n",
        "    Dense(256, activation=\"relu\"),\n",
        "    BatchNormalization(),\n",
        "    Dropout(0.3),\n",
        "\n",
        "    Dense(128, activation=\"relu\"),\n",
        "    BatchNormalization(),\n",
        "    Dropout(0.3),\n",
        "\n",
        "    Dense(64, activation=\"relu\"),\n",
        "    BatchNormalization(),\n",
        "    Dropout(0.3),\n",
        "\n",
        "    Dense(5, activation=\"softmax\")  # Ensure correct output shape\n",
        "])\n"
      ],
      "metadata": {
        "id": "H_4RPGq7y7Ur"
      },
      "execution_count": 82,
      "outputs": []
    },
    {
      "cell_type": "code",
      "source": [
        "model_multi.compile(optimizer='adam',\n",
        "                    loss='sparse_categorical_crossentropy',\n",
        "                    metrics=['accuracy'])"
      ],
      "metadata": {
        "id": "xYkd6uW4y9Jt"
      },
      "execution_count": 83,
      "outputs": []
    },
    {
      "cell_type": "code",
      "source": [
        "reduce_lr = tf.keras.callbacks.ReduceLROnPlateau(monitor='val_loss',\n",
        "                                                 factor=0.5,\n",
        "                                                 patience=3,\n",
        "                                                 min_lr=1e-5)"
      ],
      "metadata": {
        "id": "19ouW3cQzAgg"
      },
      "execution_count": 84,
      "outputs": []
    },
    {
      "cell_type": "code",
      "source": [
        "# Evaluate Multi-Class Model\n",
        "multi_loss, multi_acc = multi_model.evaluate(X_test_multi, y_test_multi_encoded)\n",
        "print(f\"Multi-Class Classification Accuracy: {multi_acc*100:.2f}%\")"
      ],
      "metadata": {
        "colab": {
          "base_uri": "https://localhost:8080/"
        },
        "id": "0ohIZbHPzCGu",
        "outputId": "508eb8b9-024c-48d6-8ff4-62f392230be1"
      },
      "execution_count": 85,
      "outputs": [
        {
          "output_type": "stream",
          "name": "stdout",
          "text": [
            "6/6 [==============================] - 0s 2ms/step - loss: 1.1328 - accuracy: 0.5598\n",
            "Multi-Class Classification Accuracy: 55.98%\n"
          ]
        }
      ]
    },
    {
      "cell_type": "code",
      "source": [
        "if len(y_train_multi.shape) > 1:\n",
        "    y_train_multi = np.argmax(y_train_multi, axis=1)\n",
        "    y_test_multi = np.argmax(y_test_multi, axis=1)"
      ],
      "metadata": {
        "id": "lay2qE-pzF6P"
      },
      "execution_count": 86,
      "outputs": []
    },
    {
      "cell_type": "code",
      "source": [
        "print(f\"y_train_multi shape: {y_train_multi.shape}\")\n",
        "print(f\"Unique labels: {np.unique(y_train_multi)}\")"
      ],
      "metadata": {
        "colab": {
          "base_uri": "https://localhost:8080/"
        },
        "id": "Ncc4qSG_zPnR",
        "outputId": "3a0e0ef5-0ce4-47b6-9c1d-25cd8733eb7f"
      },
      "execution_count": 87,
      "outputs": [
        {
          "output_type": "stream",
          "name": "stdout",
          "text": [
            "y_train_multi shape: (736,)\n",
            "Unique labels: [0 1 2 3 4]\n"
          ]
        }
      ]
    },
    {
      "cell_type": "code",
      "source": [
        "unique, counts = np.unique(y_train_multi, return_counts=True)\n",
        "print(\"Class distribution:\", dict(zip(unique, counts)))\n"
      ],
      "metadata": {
        "colab": {
          "base_uri": "https://localhost:8080/"
        },
        "id": "0WUxdzTYzRII",
        "outputId": "0faccf4b-f291-4951-b6d5-5f7841f609b6"
      },
      "execution_count": 88,
      "outputs": [
        {
          "output_type": "stream",
          "name": "stdout",
          "text": [
            "Class distribution: {0: 336, 1: 211, 2: 84, 3: 81, 4: 24}\n"
          ]
        }
      ]
    },
    {
      "cell_type": "code",
      "source": [
        "from sklearn.utils.class_weight import compute_class_weight\n",
        "class_weights = compute_class_weight('balanced', classes=np.unique(y_train_multi), y=y_train_multi)\n",
        "class_weights = dict(enumerate(class_weights))\n"
      ],
      "metadata": {
        "id": "NXkIin6TzT8A"
      },
      "execution_count": 89,
      "outputs": []
    },
    {
      "cell_type": "code",
      "source": [
        "history = model_multi.fit(\n",
        "    X_train_multi, y_train_multi,\n",
        "    validation_data=(X_test_multi, y_test_multi),  # Use validation data\n",
        "    epochs=200,\n",
        "    batch_size=64,\n",
        "    class_weight=class_weights,  # Class weights to handle imbalance\n",
        "    callbacks=[reduce_lr]  # Learning rate scheduler\n",
        ")\n"
      ],
      "metadata": {
        "colab": {
          "base_uri": "https://localhost:8080/"
        },
        "id": "2JrETUxRzViA",
        "outputId": "04654b67-654e-480e-b629-0991cee62423"
      },
      "execution_count": 91,
      "outputs": [
        {
          "output_type": "stream",
          "name": "stdout",
          "text": [
            "Epoch 1/200\n",
            "12/12 [==============================] - 8s 54ms/step - loss: 2.3143 - accuracy: 0.2310 - val_loss: 1.5613 - val_accuracy: 0.2772 - lr: 0.0010\n",
            "Epoch 2/200\n",
            "12/12 [==============================] - 0s 17ms/step - loss: 1.8348 - accuracy: 0.3370 - val_loss: 1.5150 - val_accuracy: 0.3696 - lr: 0.0010\n",
            "Epoch 3/200\n",
            "12/12 [==============================] - 0s 27ms/step - loss: 1.6755 - accuracy: 0.3967 - val_loss: 1.4835 - val_accuracy: 0.4130 - lr: 0.0010\n",
            "Epoch 4/200\n",
            "12/12 [==============================] - 0s 10ms/step - loss: 1.6331 - accuracy: 0.4253 - val_loss: 1.4550 - val_accuracy: 0.4402 - lr: 0.0010\n",
            "Epoch 5/200\n",
            "12/12 [==============================] - 0s 10ms/step - loss: 1.5337 - accuracy: 0.4293 - val_loss: 1.4308 - val_accuracy: 0.4348 - lr: 0.0010\n",
            "Epoch 6/200\n",
            "12/12 [==============================] - 0s 9ms/step - loss: 1.5254 - accuracy: 0.4565 - val_loss: 1.3981 - val_accuracy: 0.4402 - lr: 0.0010\n",
            "Epoch 7/200\n",
            "12/12 [==============================] - 0s 9ms/step - loss: 1.3997 - accuracy: 0.4946 - val_loss: 1.3684 - val_accuracy: 0.4674 - lr: 0.0010\n",
            "Epoch 8/200\n",
            "12/12 [==============================] - 0s 8ms/step - loss: 1.3474 - accuracy: 0.5217 - val_loss: 1.3372 - val_accuracy: 0.4837 - lr: 0.0010\n",
            "Epoch 9/200\n",
            "12/12 [==============================] - 0s 9ms/step - loss: 1.3425 - accuracy: 0.5014 - val_loss: 1.3018 - val_accuracy: 0.5109 - lr: 0.0010\n",
            "Epoch 10/200\n",
            "12/12 [==============================] - 0s 8ms/step - loss: 1.3392 - accuracy: 0.5163 - val_loss: 1.2747 - val_accuracy: 0.5000 - lr: 0.0010\n",
            "Epoch 11/200\n",
            "12/12 [==============================] - 0s 7ms/step - loss: 1.3560 - accuracy: 0.5340 - val_loss: 1.2627 - val_accuracy: 0.5217 - lr: 0.0010\n",
            "Epoch 12/200\n",
            "12/12 [==============================] - 0s 9ms/step - loss: 1.2565 - accuracy: 0.5312 - val_loss: 1.2467 - val_accuracy: 0.5109 - lr: 0.0010\n",
            "Epoch 13/200\n",
            "12/12 [==============================] - 0s 9ms/step - loss: 1.1896 - accuracy: 0.5408 - val_loss: 1.2250 - val_accuracy: 0.4946 - lr: 0.0010\n",
            "Epoch 14/200\n",
            "12/12 [==============================] - 0s 12ms/step - loss: 1.2221 - accuracy: 0.5217 - val_loss: 1.1975 - val_accuracy: 0.5054 - lr: 0.0010\n",
            "Epoch 15/200\n",
            "12/12 [==============================] - 0s 10ms/step - loss: 1.2187 - accuracy: 0.5326 - val_loss: 1.1803 - val_accuracy: 0.5000 - lr: 0.0010\n",
            "Epoch 16/200\n",
            "12/12 [==============================] - 0s 9ms/step - loss: 1.0923 - accuracy: 0.5815 - val_loss: 1.1745 - val_accuracy: 0.4891 - lr: 0.0010\n",
            "Epoch 17/200\n",
            "12/12 [==============================] - 0s 7ms/step - loss: 1.1473 - accuracy: 0.5394 - val_loss: 1.1680 - val_accuracy: 0.4891 - lr: 0.0010\n",
            "Epoch 18/200\n",
            "12/12 [==============================] - 0s 8ms/step - loss: 1.2374 - accuracy: 0.5530 - val_loss: 1.1675 - val_accuracy: 0.4946 - lr: 0.0010\n",
            "Epoch 19/200\n",
            "12/12 [==============================] - 0s 7ms/step - loss: 1.1353 - accuracy: 0.5652 - val_loss: 1.1615 - val_accuracy: 0.4891 - lr: 0.0010\n",
            "Epoch 20/200\n",
            "12/12 [==============================] - 0s 9ms/step - loss: 1.0528 - accuracy: 0.5856 - val_loss: 1.1567 - val_accuracy: 0.5000 - lr: 0.0010\n",
            "Epoch 21/200\n",
            "12/12 [==============================] - 0s 8ms/step - loss: 1.0827 - accuracy: 0.5734 - val_loss: 1.1558 - val_accuracy: 0.5054 - lr: 0.0010\n",
            "Epoch 22/200\n",
            "12/12 [==============================] - 0s 7ms/step - loss: 1.1032 - accuracy: 0.5897 - val_loss: 1.1518 - val_accuracy: 0.5054 - lr: 0.0010\n",
            "Epoch 23/200\n",
            "12/12 [==============================] - 0s 10ms/step - loss: 1.0491 - accuracy: 0.5870 - val_loss: 1.1425 - val_accuracy: 0.5163 - lr: 0.0010\n",
            "Epoch 24/200\n",
            "12/12 [==============================] - 0s 8ms/step - loss: 1.0453 - accuracy: 0.5951 - val_loss: 1.1421 - val_accuracy: 0.5109 - lr: 0.0010\n",
            "Epoch 25/200\n",
            "12/12 [==============================] - 0s 10ms/step - loss: 1.0002 - accuracy: 0.6101 - val_loss: 1.1449 - val_accuracy: 0.5109 - lr: 0.0010\n",
            "Epoch 26/200\n",
            "12/12 [==============================] - 0s 7ms/step - loss: 0.9940 - accuracy: 0.6128 - val_loss: 1.1538 - val_accuracy: 0.5109 - lr: 0.0010\n",
            "Epoch 27/200\n",
            "12/12 [==============================] - 0s 7ms/step - loss: 0.9459 - accuracy: 0.6155 - val_loss: 1.1636 - val_accuracy: 0.5326 - lr: 0.0010\n",
            "Epoch 28/200\n",
            "12/12 [==============================] - 0s 9ms/step - loss: 0.9827 - accuracy: 0.6033 - val_loss: 1.1619 - val_accuracy: 0.5326 - lr: 5.0000e-04\n",
            "Epoch 29/200\n",
            "12/12 [==============================] - 0s 8ms/step - loss: 0.9413 - accuracy: 0.6209 - val_loss: 1.1608 - val_accuracy: 0.5380 - lr: 5.0000e-04\n",
            "Epoch 30/200\n",
            "12/12 [==============================] - 0s 7ms/step - loss: 0.9957 - accuracy: 0.6182 - val_loss: 1.1673 - val_accuracy: 0.5435 - lr: 5.0000e-04\n",
            "Epoch 31/200\n",
            "12/12 [==============================] - 0s 7ms/step - loss: 0.9609 - accuracy: 0.6413 - val_loss: 1.1711 - val_accuracy: 0.5380 - lr: 2.5000e-04\n",
            "Epoch 32/200\n",
            "12/12 [==============================] - 0s 9ms/step - loss: 0.9663 - accuracy: 0.6114 - val_loss: 1.1731 - val_accuracy: 0.5380 - lr: 2.5000e-04\n",
            "Epoch 33/200\n",
            "12/12 [==============================] - 0s 10ms/step - loss: 0.9407 - accuracy: 0.6291 - val_loss: 1.1768 - val_accuracy: 0.5326 - lr: 2.5000e-04\n",
            "Epoch 34/200\n",
            "12/12 [==============================] - 0s 7ms/step - loss: 0.9605 - accuracy: 0.6168 - val_loss: 1.1784 - val_accuracy: 0.5326 - lr: 1.2500e-04\n",
            "Epoch 35/200\n",
            "12/12 [==============================] - 0s 9ms/step - loss: 0.9627 - accuracy: 0.6087 - val_loss: 1.1806 - val_accuracy: 0.5380 - lr: 1.2500e-04\n",
            "Epoch 36/200\n",
            "12/12 [==============================] - 0s 7ms/step - loss: 0.9911 - accuracy: 0.6128 - val_loss: 1.1830 - val_accuracy: 0.5380 - lr: 1.2500e-04\n",
            "Epoch 37/200\n",
            "12/12 [==============================] - 0s 7ms/step - loss: 0.9769 - accuracy: 0.6155 - val_loss: 1.1868 - val_accuracy: 0.5326 - lr: 6.2500e-05\n",
            "Epoch 38/200\n",
            "12/12 [==============================] - 0s 9ms/step - loss: 0.9277 - accuracy: 0.6168 - val_loss: 1.1907 - val_accuracy: 0.5272 - lr: 6.2500e-05\n",
            "Epoch 39/200\n",
            "12/12 [==============================] - 0s 8ms/step - loss: 0.9526 - accuracy: 0.6264 - val_loss: 1.1947 - val_accuracy: 0.5272 - lr: 6.2500e-05\n",
            "Epoch 40/200\n",
            "12/12 [==============================] - 0s 8ms/step - loss: 0.9799 - accuracy: 0.6128 - val_loss: 1.1985 - val_accuracy: 0.5272 - lr: 3.1250e-05\n",
            "Epoch 41/200\n",
            "12/12 [==============================] - 0s 9ms/step - loss: 0.9147 - accuracy: 0.6440 - val_loss: 1.2012 - val_accuracy: 0.5272 - lr: 3.1250e-05\n",
            "Epoch 42/200\n",
            "12/12 [==============================] - 0s 9ms/step - loss: 0.8954 - accuracy: 0.6345 - val_loss: 1.2028 - val_accuracy: 0.5272 - lr: 3.1250e-05\n",
            "Epoch 43/200\n",
            "12/12 [==============================] - 0s 10ms/step - loss: 0.9308 - accuracy: 0.6399 - val_loss: 1.2042 - val_accuracy: 0.5272 - lr: 1.5625e-05\n",
            "Epoch 44/200\n",
            "12/12 [==============================] - 0s 12ms/step - loss: 0.9678 - accuracy: 0.6019 - val_loss: 1.2069 - val_accuracy: 0.5217 - lr: 1.5625e-05\n",
            "Epoch 45/200\n",
            "12/12 [==============================] - 0s 14ms/step - loss: 0.9635 - accuracy: 0.6209 - val_loss: 1.2096 - val_accuracy: 0.5217 - lr: 1.5625e-05\n",
            "Epoch 46/200\n",
            "12/12 [==============================] - 0s 12ms/step - loss: 0.9681 - accuracy: 0.6168 - val_loss: 1.2106 - val_accuracy: 0.5217 - lr: 1.0000e-05\n",
            "Epoch 47/200\n",
            "12/12 [==============================] - 0s 12ms/step - loss: 0.9232 - accuracy: 0.6277 - val_loss: 1.2117 - val_accuracy: 0.5217 - lr: 1.0000e-05\n",
            "Epoch 48/200\n",
            "12/12 [==============================] - 0s 12ms/step - loss: 0.9902 - accuracy: 0.5978 - val_loss: 1.2135 - val_accuracy: 0.5217 - lr: 1.0000e-05\n",
            "Epoch 49/200\n",
            "12/12 [==============================] - 0s 12ms/step - loss: 0.9432 - accuracy: 0.6277 - val_loss: 1.2152 - val_accuracy: 0.5217 - lr: 1.0000e-05\n",
            "Epoch 50/200\n",
            "12/12 [==============================] - 0s 12ms/step - loss: 0.9103 - accuracy: 0.6427 - val_loss: 1.2158 - val_accuracy: 0.5217 - lr: 1.0000e-05\n",
            "Epoch 51/200\n",
            "12/12 [==============================] - 0s 13ms/step - loss: 0.9110 - accuracy: 0.6264 - val_loss: 1.2170 - val_accuracy: 0.5217 - lr: 1.0000e-05\n",
            "Epoch 52/200\n",
            "12/12 [==============================] - 0s 14ms/step - loss: 0.9707 - accuracy: 0.6223 - val_loss: 1.2178 - val_accuracy: 0.5217 - lr: 1.0000e-05\n",
            "Epoch 53/200\n",
            "12/12 [==============================] - 0s 11ms/step - loss: 0.9642 - accuracy: 0.6060 - val_loss: 1.2191 - val_accuracy: 0.5217 - lr: 1.0000e-05\n",
            "Epoch 54/200\n",
            "12/12 [==============================] - 0s 12ms/step - loss: 1.0151 - accuracy: 0.6114 - val_loss: 1.2186 - val_accuracy: 0.5217 - lr: 1.0000e-05\n",
            "Epoch 55/200\n",
            "12/12 [==============================] - 0s 13ms/step - loss: 0.9854 - accuracy: 0.5883 - val_loss: 1.2206 - val_accuracy: 0.5217 - lr: 1.0000e-05\n",
            "Epoch 56/200\n",
            "12/12 [==============================] - 0s 16ms/step - loss: 0.9419 - accuracy: 0.6141 - val_loss: 1.2214 - val_accuracy: 0.5217 - lr: 1.0000e-05\n",
            "Epoch 57/200\n",
            "12/12 [==============================] - 0s 14ms/step - loss: 0.9400 - accuracy: 0.6359 - val_loss: 1.2216 - val_accuracy: 0.5217 - lr: 1.0000e-05\n",
            "Epoch 58/200\n",
            "12/12 [==============================] - 0s 18ms/step - loss: 0.9025 - accuracy: 0.6372 - val_loss: 1.2229 - val_accuracy: 0.5217 - lr: 1.0000e-05\n",
            "Epoch 59/200\n",
            "12/12 [==============================] - 0s 12ms/step - loss: 0.9666 - accuracy: 0.6304 - val_loss: 1.2240 - val_accuracy: 0.5217 - lr: 1.0000e-05\n",
            "Epoch 60/200\n",
            "12/12 [==============================] - 0s 13ms/step - loss: 0.9394 - accuracy: 0.6196 - val_loss: 1.2232 - val_accuracy: 0.5217 - lr: 1.0000e-05\n",
            "Epoch 61/200\n",
            "12/12 [==============================] - 0s 8ms/step - loss: 0.9220 - accuracy: 0.6128 - val_loss: 1.2230 - val_accuracy: 0.5217 - lr: 1.0000e-05\n",
            "Epoch 62/200\n",
            "12/12 [==============================] - 0s 9ms/step - loss: 0.9964 - accuracy: 0.5856 - val_loss: 1.2234 - val_accuracy: 0.5217 - lr: 1.0000e-05\n",
            "Epoch 63/200\n",
            "12/12 [==============================] - 0s 9ms/step - loss: 0.9679 - accuracy: 0.6128 - val_loss: 1.2234 - val_accuracy: 0.5163 - lr: 1.0000e-05\n",
            "Epoch 64/200\n",
            "12/12 [==============================] - 0s 7ms/step - loss: 0.9644 - accuracy: 0.6209 - val_loss: 1.2234 - val_accuracy: 0.5217 - lr: 1.0000e-05\n",
            "Epoch 65/200\n",
            "12/12 [==============================] - 0s 7ms/step - loss: 0.9094 - accuracy: 0.6209 - val_loss: 1.2238 - val_accuracy: 0.5217 - lr: 1.0000e-05\n",
            "Epoch 66/200\n",
            "12/12 [==============================] - 0s 7ms/step - loss: 0.9693 - accuracy: 0.6141 - val_loss: 1.2236 - val_accuracy: 0.5217 - lr: 1.0000e-05\n",
            "Epoch 67/200\n",
            "12/12 [==============================] - 0s 8ms/step - loss: 0.8921 - accuracy: 0.6291 - val_loss: 1.2233 - val_accuracy: 0.5217 - lr: 1.0000e-05\n",
            "Epoch 68/200\n",
            "12/12 [==============================] - 0s 8ms/step - loss: 0.9281 - accuracy: 0.6141 - val_loss: 1.2237 - val_accuracy: 0.5217 - lr: 1.0000e-05\n",
            "Epoch 69/200\n",
            "12/12 [==============================] - 0s 7ms/step - loss: 0.9958 - accuracy: 0.6223 - val_loss: 1.2244 - val_accuracy: 0.5217 - lr: 1.0000e-05\n",
            "Epoch 70/200\n",
            "12/12 [==============================] - 0s 9ms/step - loss: 0.9588 - accuracy: 0.6168 - val_loss: 1.2250 - val_accuracy: 0.5217 - lr: 1.0000e-05\n",
            "Epoch 71/200\n",
            "12/12 [==============================] - 0s 9ms/step - loss: 0.9263 - accuracy: 0.6264 - val_loss: 1.2248 - val_accuracy: 0.5217 - lr: 1.0000e-05\n",
            "Epoch 72/200\n",
            "12/12 [==============================] - 0s 9ms/step - loss: 0.9281 - accuracy: 0.6454 - val_loss: 1.2247 - val_accuracy: 0.5217 - lr: 1.0000e-05\n",
            "Epoch 73/200\n",
            "12/12 [==============================] - 0s 10ms/step - loss: 0.9352 - accuracy: 0.6318 - val_loss: 1.2236 - val_accuracy: 0.5217 - lr: 1.0000e-05\n",
            "Epoch 74/200\n",
            "12/12 [==============================] - 0s 9ms/step - loss: 0.9380 - accuracy: 0.6304 - val_loss: 1.2229 - val_accuracy: 0.5217 - lr: 1.0000e-05\n",
            "Epoch 75/200\n",
            "12/12 [==============================] - 0s 7ms/step - loss: 0.9897 - accuracy: 0.6318 - val_loss: 1.2243 - val_accuracy: 0.5217 - lr: 1.0000e-05\n",
            "Epoch 76/200\n",
            "12/12 [==============================] - 0s 7ms/step - loss: 0.9107 - accuracy: 0.6304 - val_loss: 1.2240 - val_accuracy: 0.5217 - lr: 1.0000e-05\n",
            "Epoch 77/200\n",
            "12/12 [==============================] - 0s 10ms/step - loss: 0.9891 - accuracy: 0.6223 - val_loss: 1.2227 - val_accuracy: 0.5217 - lr: 1.0000e-05\n",
            "Epoch 78/200\n",
            "12/12 [==============================] - 0s 7ms/step - loss: 0.9848 - accuracy: 0.6264 - val_loss: 1.2230 - val_accuracy: 0.5217 - lr: 1.0000e-05\n",
            "Epoch 79/200\n",
            "12/12 [==============================] - 0s 9ms/step - loss: 0.8843 - accuracy: 0.6318 - val_loss: 1.2229 - val_accuracy: 0.5217 - lr: 1.0000e-05\n",
            "Epoch 80/200\n",
            "12/12 [==============================] - 0s 9ms/step - loss: 0.9289 - accuracy: 0.6399 - val_loss: 1.2234 - val_accuracy: 0.5217 - lr: 1.0000e-05\n",
            "Epoch 81/200\n",
            "12/12 [==============================] - 0s 9ms/step - loss: 0.9238 - accuracy: 0.6508 - val_loss: 1.2233 - val_accuracy: 0.5217 - lr: 1.0000e-05\n",
            "Epoch 82/200\n",
            "12/12 [==============================] - 0s 10ms/step - loss: 0.9566 - accuracy: 0.6250 - val_loss: 1.2235 - val_accuracy: 0.5217 - lr: 1.0000e-05\n",
            "Epoch 83/200\n",
            "12/12 [==============================] - 0s 9ms/step - loss: 0.9962 - accuracy: 0.6087 - val_loss: 1.2242 - val_accuracy: 0.5217 - lr: 1.0000e-05\n",
            "Epoch 84/200\n",
            "12/12 [==============================] - 0s 12ms/step - loss: 0.8974 - accuracy: 0.6209 - val_loss: 1.2237 - val_accuracy: 0.5217 - lr: 1.0000e-05\n",
            "Epoch 85/200\n",
            "12/12 [==============================] - 0s 7ms/step - loss: 0.9709 - accuracy: 0.6060 - val_loss: 1.2236 - val_accuracy: 0.5217 - lr: 1.0000e-05\n",
            "Epoch 86/200\n",
            "12/12 [==============================] - 0s 7ms/step - loss: 0.9175 - accuracy: 0.6372 - val_loss: 1.2232 - val_accuracy: 0.5217 - lr: 1.0000e-05\n",
            "Epoch 87/200\n",
            "12/12 [==============================] - 0s 10ms/step - loss: 0.9149 - accuracy: 0.6467 - val_loss: 1.2238 - val_accuracy: 0.5217 - lr: 1.0000e-05\n",
            "Epoch 88/200\n",
            "12/12 [==============================] - 0s 8ms/step - loss: 0.9860 - accuracy: 0.5978 - val_loss: 1.2240 - val_accuracy: 0.5217 - lr: 1.0000e-05\n",
            "Epoch 89/200\n",
            "12/12 [==============================] - 0s 9ms/step - loss: 0.8902 - accuracy: 0.6386 - val_loss: 1.2245 - val_accuracy: 0.5163 - lr: 1.0000e-05\n",
            "Epoch 90/200\n",
            "12/12 [==============================] - 0s 9ms/step - loss: 1.0386 - accuracy: 0.6209 - val_loss: 1.2244 - val_accuracy: 0.5163 - lr: 1.0000e-05\n",
            "Epoch 91/200\n",
            "12/12 [==============================] - 0s 10ms/step - loss: 1.0572 - accuracy: 0.5856 - val_loss: 1.2246 - val_accuracy: 0.5163 - lr: 1.0000e-05\n",
            "Epoch 92/200\n",
            "12/12 [==============================] - 0s 8ms/step - loss: 0.9175 - accuracy: 0.6318 - val_loss: 1.2238 - val_accuracy: 0.5217 - lr: 1.0000e-05\n",
            "Epoch 93/200\n",
            "12/12 [==============================] - 0s 8ms/step - loss: 0.9626 - accuracy: 0.6359 - val_loss: 1.2245 - val_accuracy: 0.5217 - lr: 1.0000e-05\n",
            "Epoch 94/200\n",
            "12/12 [==============================] - 0s 7ms/step - loss: 0.9449 - accuracy: 0.6386 - val_loss: 1.2254 - val_accuracy: 0.5217 - lr: 1.0000e-05\n",
            "Epoch 95/200\n",
            "12/12 [==============================] - 0s 9ms/step - loss: 0.9141 - accuracy: 0.6209 - val_loss: 1.2252 - val_accuracy: 0.5163 - lr: 1.0000e-05\n",
            "Epoch 96/200\n",
            "12/12 [==============================] - 0s 9ms/step - loss: 0.9499 - accuracy: 0.6304 - val_loss: 1.2240 - val_accuracy: 0.5163 - lr: 1.0000e-05\n",
            "Epoch 97/200\n",
            "12/12 [==============================] - 0s 8ms/step - loss: 0.9008 - accuracy: 0.6236 - val_loss: 1.2235 - val_accuracy: 0.5217 - lr: 1.0000e-05\n",
            "Epoch 98/200\n",
            "12/12 [==============================] - 0s 8ms/step - loss: 0.9382 - accuracy: 0.6427 - val_loss: 1.2226 - val_accuracy: 0.5217 - lr: 1.0000e-05\n",
            "Epoch 99/200\n",
            "12/12 [==============================] - 0s 9ms/step - loss: 0.9854 - accuracy: 0.6101 - val_loss: 1.2222 - val_accuracy: 0.5217 - lr: 1.0000e-05\n",
            "Epoch 100/200\n",
            "12/12 [==============================] - 0s 9ms/step - loss: 0.9183 - accuracy: 0.6005 - val_loss: 1.2228 - val_accuracy: 0.5217 - lr: 1.0000e-05\n",
            "Epoch 101/200\n",
            "12/12 [==============================] - 0s 11ms/step - loss: 0.8757 - accuracy: 0.6291 - val_loss: 1.2226 - val_accuracy: 0.5217 - lr: 1.0000e-05\n",
            "Epoch 102/200\n",
            "12/12 [==============================] - 0s 10ms/step - loss: 0.9560 - accuracy: 0.6128 - val_loss: 1.2222 - val_accuracy: 0.5217 - lr: 1.0000e-05\n",
            "Epoch 103/200\n",
            "12/12 [==============================] - 0s 9ms/step - loss: 0.9023 - accuracy: 0.6291 - val_loss: 1.2233 - val_accuracy: 0.5163 - lr: 1.0000e-05\n",
            "Epoch 104/200\n",
            "12/12 [==============================] - 0s 9ms/step - loss: 0.9511 - accuracy: 0.6168 - val_loss: 1.2229 - val_accuracy: 0.5163 - lr: 1.0000e-05\n",
            "Epoch 105/200\n",
            "12/12 [==============================] - 0s 10ms/step - loss: 0.9786 - accuracy: 0.6386 - val_loss: 1.2222 - val_accuracy: 0.5163 - lr: 1.0000e-05\n",
            "Epoch 106/200\n",
            "12/12 [==============================] - 0s 8ms/step - loss: 0.8826 - accuracy: 0.6753 - val_loss: 1.2230 - val_accuracy: 0.5163 - lr: 1.0000e-05\n",
            "Epoch 107/200\n",
            "12/12 [==============================] - 0s 8ms/step - loss: 0.9212 - accuracy: 0.6318 - val_loss: 1.2241 - val_accuracy: 0.5163 - lr: 1.0000e-05\n",
            "Epoch 108/200\n",
            "12/12 [==============================] - 0s 8ms/step - loss: 0.9804 - accuracy: 0.6182 - val_loss: 1.2236 - val_accuracy: 0.5163 - lr: 1.0000e-05\n",
            "Epoch 109/200\n",
            "12/12 [==============================] - 0s 9ms/step - loss: 0.9238 - accuracy: 0.6359 - val_loss: 1.2226 - val_accuracy: 0.5163 - lr: 1.0000e-05\n",
            "Epoch 110/200\n",
            "12/12 [==============================] - 0s 10ms/step - loss: 0.9122 - accuracy: 0.6209 - val_loss: 1.2225 - val_accuracy: 0.5163 - lr: 1.0000e-05\n",
            "Epoch 111/200\n",
            "12/12 [==============================] - 0s 9ms/step - loss: 0.9445 - accuracy: 0.6345 - val_loss: 1.2222 - val_accuracy: 0.5163 - lr: 1.0000e-05\n",
            "Epoch 112/200\n",
            "12/12 [==============================] - 0s 9ms/step - loss: 0.8659 - accuracy: 0.6440 - val_loss: 1.2220 - val_accuracy: 0.5163 - lr: 1.0000e-05\n",
            "Epoch 113/200\n",
            "12/12 [==============================] - 0s 10ms/step - loss: 0.8936 - accuracy: 0.6332 - val_loss: 1.2216 - val_accuracy: 0.5163 - lr: 1.0000e-05\n",
            "Epoch 114/200\n",
            "12/12 [==============================] - 0s 8ms/step - loss: 0.9527 - accuracy: 0.6128 - val_loss: 1.2214 - val_accuracy: 0.5217 - lr: 1.0000e-05\n",
            "Epoch 115/200\n",
            "12/12 [==============================] - 0s 10ms/step - loss: 0.9046 - accuracy: 0.6522 - val_loss: 1.2212 - val_accuracy: 0.5163 - lr: 1.0000e-05\n",
            "Epoch 116/200\n",
            "12/12 [==============================] - 0s 9ms/step - loss: 0.9191 - accuracy: 0.6168 - val_loss: 1.2219 - val_accuracy: 0.5163 - lr: 1.0000e-05\n",
            "Epoch 117/200\n",
            "12/12 [==============================] - 0s 9ms/step - loss: 0.9405 - accuracy: 0.6372 - val_loss: 1.2213 - val_accuracy: 0.5163 - lr: 1.0000e-05\n",
            "Epoch 118/200\n",
            "12/12 [==============================] - 0s 11ms/step - loss: 0.9926 - accuracy: 0.6250 - val_loss: 1.2210 - val_accuracy: 0.5217 - lr: 1.0000e-05\n",
            "Epoch 119/200\n",
            "12/12 [==============================] - 0s 9ms/step - loss: 0.9501 - accuracy: 0.6223 - val_loss: 1.2206 - val_accuracy: 0.5217 - lr: 1.0000e-05\n",
            "Epoch 120/200\n",
            "12/12 [==============================] - 0s 10ms/step - loss: 0.8979 - accuracy: 0.6440 - val_loss: 1.2210 - val_accuracy: 0.5217 - lr: 1.0000e-05\n",
            "Epoch 121/200\n",
            "12/12 [==============================] - 0s 9ms/step - loss: 0.9791 - accuracy: 0.6060 - val_loss: 1.2214 - val_accuracy: 0.5217 - lr: 1.0000e-05\n",
            "Epoch 122/200\n",
            "12/12 [==============================] - 0s 8ms/step - loss: 0.9869 - accuracy: 0.6345 - val_loss: 1.2224 - val_accuracy: 0.5217 - lr: 1.0000e-05\n",
            "Epoch 123/200\n",
            "12/12 [==============================] - 0s 9ms/step - loss: 0.8892 - accuracy: 0.6399 - val_loss: 1.2228 - val_accuracy: 0.5217 - lr: 1.0000e-05\n",
            "Epoch 124/200\n",
            "12/12 [==============================] - 0s 9ms/step - loss: 0.9029 - accuracy: 0.6318 - val_loss: 1.2226 - val_accuracy: 0.5217 - lr: 1.0000e-05\n",
            "Epoch 125/200\n",
            "12/12 [==============================] - 0s 9ms/step - loss: 0.8697 - accuracy: 0.6576 - val_loss: 1.2229 - val_accuracy: 0.5163 - lr: 1.0000e-05\n",
            "Epoch 126/200\n",
            "12/12 [==============================] - 0s 7ms/step - loss: 0.9529 - accuracy: 0.6209 - val_loss: 1.2228 - val_accuracy: 0.5217 - lr: 1.0000e-05\n",
            "Epoch 127/200\n",
            "12/12 [==============================] - 0s 9ms/step - loss: 0.8502 - accuracy: 0.6535 - val_loss: 1.2226 - val_accuracy: 0.5217 - lr: 1.0000e-05\n",
            "Epoch 128/200\n",
            "12/12 [==============================] - 0s 9ms/step - loss: 0.8928 - accuracy: 0.6372 - val_loss: 1.2230 - val_accuracy: 0.5217 - lr: 1.0000e-05\n",
            "Epoch 129/200\n",
            "12/12 [==============================] - 0s 9ms/step - loss: 0.9299 - accuracy: 0.6223 - val_loss: 1.2240 - val_accuracy: 0.5217 - lr: 1.0000e-05\n",
            "Epoch 130/200\n",
            "12/12 [==============================] - 0s 9ms/step - loss: 0.9384 - accuracy: 0.6386 - val_loss: 1.2242 - val_accuracy: 0.5217 - lr: 1.0000e-05\n",
            "Epoch 131/200\n",
            "12/12 [==============================] - 0s 7ms/step - loss: 0.9447 - accuracy: 0.6332 - val_loss: 1.2252 - val_accuracy: 0.5217 - lr: 1.0000e-05\n",
            "Epoch 132/200\n",
            "12/12 [==============================] - 0s 8ms/step - loss: 0.9143 - accuracy: 0.6155 - val_loss: 1.2262 - val_accuracy: 0.5217 - lr: 1.0000e-05\n",
            "Epoch 133/200\n",
            "12/12 [==============================] - 0s 8ms/step - loss: 0.9475 - accuracy: 0.6277 - val_loss: 1.2263 - val_accuracy: 0.5217 - lr: 1.0000e-05\n",
            "Epoch 134/200\n",
            "12/12 [==============================] - 0s 10ms/step - loss: 0.9890 - accuracy: 0.6141 - val_loss: 1.2251 - val_accuracy: 0.5217 - lr: 1.0000e-05\n",
            "Epoch 135/200\n",
            "12/12 [==============================] - 0s 9ms/step - loss: 0.9227 - accuracy: 0.6304 - val_loss: 1.2263 - val_accuracy: 0.5217 - lr: 1.0000e-05\n",
            "Epoch 136/200\n",
            "12/12 [==============================] - 0s 8ms/step - loss: 0.9334 - accuracy: 0.6277 - val_loss: 1.2257 - val_accuracy: 0.5272 - lr: 1.0000e-05\n",
            "Epoch 137/200\n",
            "12/12 [==============================] - 0s 11ms/step - loss: 0.9382 - accuracy: 0.6535 - val_loss: 1.2267 - val_accuracy: 0.5217 - lr: 1.0000e-05\n",
            "Epoch 138/200\n",
            "12/12 [==============================] - 0s 7ms/step - loss: 0.9218 - accuracy: 0.6196 - val_loss: 1.2270 - val_accuracy: 0.5217 - lr: 1.0000e-05\n",
            "Epoch 139/200\n",
            "12/12 [==============================] - 0s 8ms/step - loss: 0.9422 - accuracy: 0.6223 - val_loss: 1.2268 - val_accuracy: 0.5217 - lr: 1.0000e-05\n",
            "Epoch 140/200\n",
            "12/12 [==============================] - 0s 9ms/step - loss: 0.9449 - accuracy: 0.6236 - val_loss: 1.2259 - val_accuracy: 0.5272 - lr: 1.0000e-05\n",
            "Epoch 141/200\n",
            "12/12 [==============================] - 0s 9ms/step - loss: 0.8957 - accuracy: 0.6332 - val_loss: 1.2265 - val_accuracy: 0.5272 - lr: 1.0000e-05\n",
            "Epoch 142/200\n",
            "12/12 [==============================] - 0s 8ms/step - loss: 0.9418 - accuracy: 0.6209 - val_loss: 1.2268 - val_accuracy: 0.5272 - lr: 1.0000e-05\n",
            "Epoch 143/200\n",
            "12/12 [==============================] - 0s 8ms/step - loss: 0.9923 - accuracy: 0.6155 - val_loss: 1.2277 - val_accuracy: 0.5272 - lr: 1.0000e-05\n",
            "Epoch 144/200\n",
            "12/12 [==============================] - 0s 7ms/step - loss: 0.9390 - accuracy: 0.6155 - val_loss: 1.2266 - val_accuracy: 0.5272 - lr: 1.0000e-05\n",
            "Epoch 145/200\n",
            "12/12 [==============================] - 0s 9ms/step - loss: 0.8856 - accuracy: 0.6495 - val_loss: 1.2269 - val_accuracy: 0.5272 - lr: 1.0000e-05\n",
            "Epoch 146/200\n",
            "12/12 [==============================] - 0s 9ms/step - loss: 0.8989 - accuracy: 0.6332 - val_loss: 1.2255 - val_accuracy: 0.5272 - lr: 1.0000e-05\n",
            "Epoch 147/200\n",
            "12/12 [==============================] - 0s 10ms/step - loss: 0.9430 - accuracy: 0.6223 - val_loss: 1.2256 - val_accuracy: 0.5272 - lr: 1.0000e-05\n",
            "Epoch 148/200\n",
            "12/12 [==============================] - 0s 9ms/step - loss: 0.8555 - accuracy: 0.6590 - val_loss: 1.2262 - val_accuracy: 0.5272 - lr: 1.0000e-05\n",
            "Epoch 149/200\n",
            "12/12 [==============================] - 0s 8ms/step - loss: 0.9526 - accuracy: 0.6168 - val_loss: 1.2253 - val_accuracy: 0.5272 - lr: 1.0000e-05\n",
            "Epoch 150/200\n",
            "12/12 [==============================] - 0s 8ms/step - loss: 0.8915 - accuracy: 0.6196 - val_loss: 1.2254 - val_accuracy: 0.5272 - lr: 1.0000e-05\n",
            "Epoch 151/200\n",
            "12/12 [==============================] - 0s 9ms/step - loss: 0.9275 - accuracy: 0.6291 - val_loss: 1.2259 - val_accuracy: 0.5272 - lr: 1.0000e-05\n",
            "Epoch 152/200\n",
            "12/12 [==============================] - 0s 8ms/step - loss: 0.9172 - accuracy: 0.6196 - val_loss: 1.2262 - val_accuracy: 0.5272 - lr: 1.0000e-05\n",
            "Epoch 153/200\n",
            "12/12 [==============================] - 0s 9ms/step - loss: 0.9401 - accuracy: 0.6372 - val_loss: 1.2265 - val_accuracy: 0.5272 - lr: 1.0000e-05\n",
            "Epoch 154/200\n",
            "12/12 [==============================] - 0s 14ms/step - loss: 0.9138 - accuracy: 0.6413 - val_loss: 1.2268 - val_accuracy: 0.5217 - lr: 1.0000e-05\n",
            "Epoch 155/200\n",
            "12/12 [==============================] - 0s 13ms/step - loss: 0.9229 - accuracy: 0.6155 - val_loss: 1.2268 - val_accuracy: 0.5272 - lr: 1.0000e-05\n",
            "Epoch 156/200\n",
            "12/12 [==============================] - 0s 13ms/step - loss: 0.8839 - accuracy: 0.6304 - val_loss: 1.2257 - val_accuracy: 0.5272 - lr: 1.0000e-05\n",
            "Epoch 157/200\n",
            "12/12 [==============================] - 0s 12ms/step - loss: 0.8974 - accuracy: 0.6440 - val_loss: 1.2259 - val_accuracy: 0.5272 - lr: 1.0000e-05\n",
            "Epoch 158/200\n",
            "12/12 [==============================] - 0s 12ms/step - loss: 0.9188 - accuracy: 0.6291 - val_loss: 1.2260 - val_accuracy: 0.5272 - lr: 1.0000e-05\n",
            "Epoch 159/200\n",
            "12/12 [==============================] - 0s 10ms/step - loss: 0.9032 - accuracy: 0.6359 - val_loss: 1.2261 - val_accuracy: 0.5272 - lr: 1.0000e-05\n",
            "Epoch 160/200\n",
            "12/12 [==============================] - 0s 13ms/step - loss: 0.9673 - accuracy: 0.6264 - val_loss: 1.2262 - val_accuracy: 0.5272 - lr: 1.0000e-05\n",
            "Epoch 161/200\n",
            "12/12 [==============================] - 0s 12ms/step - loss: 0.9217 - accuracy: 0.6318 - val_loss: 1.2261 - val_accuracy: 0.5272 - lr: 1.0000e-05\n",
            "Epoch 162/200\n",
            "12/12 [==============================] - 0s 14ms/step - loss: 0.8648 - accuracy: 0.6277 - val_loss: 1.2266 - val_accuracy: 0.5272 - lr: 1.0000e-05\n",
            "Epoch 163/200\n",
            "12/12 [==============================] - 0s 13ms/step - loss: 0.8985 - accuracy: 0.6345 - val_loss: 1.2270 - val_accuracy: 0.5272 - lr: 1.0000e-05\n",
            "Epoch 164/200\n",
            "12/12 [==============================] - 0s 12ms/step - loss: 0.9297 - accuracy: 0.6250 - val_loss: 1.2274 - val_accuracy: 0.5272 - lr: 1.0000e-05\n",
            "Epoch 165/200\n",
            "12/12 [==============================] - 0s 12ms/step - loss: 0.9151 - accuracy: 0.6345 - val_loss: 1.2283 - val_accuracy: 0.5217 - lr: 1.0000e-05\n",
            "Epoch 166/200\n",
            "12/12 [==============================] - 0s 13ms/step - loss: 0.9681 - accuracy: 0.6399 - val_loss: 1.2287 - val_accuracy: 0.5217 - lr: 1.0000e-05\n",
            "Epoch 167/200\n",
            "12/12 [==============================] - 0s 14ms/step - loss: 0.9058 - accuracy: 0.6359 - val_loss: 1.2284 - val_accuracy: 0.5217 - lr: 1.0000e-05\n",
            "Epoch 168/200\n",
            "12/12 [==============================] - 0s 14ms/step - loss: 0.8934 - accuracy: 0.6264 - val_loss: 1.2292 - val_accuracy: 0.5217 - lr: 1.0000e-05\n",
            "Epoch 169/200\n",
            "12/12 [==============================] - 0s 14ms/step - loss: 0.8973 - accuracy: 0.6454 - val_loss: 1.2291 - val_accuracy: 0.5217 - lr: 1.0000e-05\n",
            "Epoch 170/200\n",
            "12/12 [==============================] - 0s 13ms/step - loss: 0.8694 - accuracy: 0.6386 - val_loss: 1.2290 - val_accuracy: 0.5217 - lr: 1.0000e-05\n",
            "Epoch 171/200\n",
            "12/12 [==============================] - 0s 14ms/step - loss: 0.9430 - accuracy: 0.6196 - val_loss: 1.2272 - val_accuracy: 0.5217 - lr: 1.0000e-05\n",
            "Epoch 172/200\n",
            "12/12 [==============================] - 0s 9ms/step - loss: 0.9295 - accuracy: 0.6304 - val_loss: 1.2282 - val_accuracy: 0.5217 - lr: 1.0000e-05\n",
            "Epoch 173/200\n",
            "12/12 [==============================] - 0s 7ms/step - loss: 0.9639 - accuracy: 0.6209 - val_loss: 1.2274 - val_accuracy: 0.5217 - lr: 1.0000e-05\n",
            "Epoch 174/200\n",
            "12/12 [==============================] - 0s 10ms/step - loss: 0.9460 - accuracy: 0.6318 - val_loss: 1.2278 - val_accuracy: 0.5217 - lr: 1.0000e-05\n",
            "Epoch 175/200\n",
            "12/12 [==============================] - 0s 8ms/step - loss: 0.9303 - accuracy: 0.6250 - val_loss: 1.2277 - val_accuracy: 0.5217 - lr: 1.0000e-05\n",
            "Epoch 176/200\n",
            "12/12 [==============================] - 0s 9ms/step - loss: 0.9579 - accuracy: 0.6359 - val_loss: 1.2273 - val_accuracy: 0.5272 - lr: 1.0000e-05\n",
            "Epoch 177/200\n",
            "12/12 [==============================] - 0s 7ms/step - loss: 0.9472 - accuracy: 0.6440 - val_loss: 1.2274 - val_accuracy: 0.5217 - lr: 1.0000e-05\n",
            "Epoch 178/200\n",
            "12/12 [==============================] - 0s 9ms/step - loss: 0.8992 - accuracy: 0.6345 - val_loss: 1.2268 - val_accuracy: 0.5272 - lr: 1.0000e-05\n",
            "Epoch 179/200\n",
            "12/12 [==============================] - 0s 9ms/step - loss: 0.8839 - accuracy: 0.6562 - val_loss: 1.2269 - val_accuracy: 0.5272 - lr: 1.0000e-05\n",
            "Epoch 180/200\n",
            "12/12 [==============================] - 0s 8ms/step - loss: 0.8860 - accuracy: 0.6332 - val_loss: 1.2275 - val_accuracy: 0.5217 - lr: 1.0000e-05\n",
            "Epoch 181/200\n",
            "12/12 [==============================] - 0s 8ms/step - loss: 0.9514 - accuracy: 0.6576 - val_loss: 1.2286 - val_accuracy: 0.5217 - lr: 1.0000e-05\n",
            "Epoch 182/200\n",
            "12/12 [==============================] - 0s 7ms/step - loss: 1.0138 - accuracy: 0.6141 - val_loss: 1.2283 - val_accuracy: 0.5217 - lr: 1.0000e-05\n",
            "Epoch 183/200\n",
            "12/12 [==============================] - 0s 10ms/step - loss: 0.8862 - accuracy: 0.6304 - val_loss: 1.2276 - val_accuracy: 0.5217 - lr: 1.0000e-05\n",
            "Epoch 184/200\n",
            "12/12 [==============================] - 0s 9ms/step - loss: 0.9406 - accuracy: 0.6386 - val_loss: 1.2288 - val_accuracy: 0.5217 - lr: 1.0000e-05\n",
            "Epoch 185/200\n",
            "12/12 [==============================] - 0s 9ms/step - loss: 0.9423 - accuracy: 0.6101 - val_loss: 1.2278 - val_accuracy: 0.5217 - lr: 1.0000e-05\n",
            "Epoch 186/200\n",
            "12/12 [==============================] - 0s 10ms/step - loss: 0.9698 - accuracy: 0.6236 - val_loss: 1.2278 - val_accuracy: 0.5217 - lr: 1.0000e-05\n",
            "Epoch 187/200\n",
            "12/12 [==============================] - 0s 8ms/step - loss: 0.9193 - accuracy: 0.6467 - val_loss: 1.2289 - val_accuracy: 0.5217 - lr: 1.0000e-05\n",
            "Epoch 188/200\n",
            "12/12 [==============================] - 0s 9ms/step - loss: 0.8712 - accuracy: 0.6508 - val_loss: 1.2281 - val_accuracy: 0.5217 - lr: 1.0000e-05\n",
            "Epoch 189/200\n",
            "12/12 [==============================] - 0s 7ms/step - loss: 0.9082 - accuracy: 0.6671 - val_loss: 1.2282 - val_accuracy: 0.5217 - lr: 1.0000e-05\n",
            "Epoch 190/200\n",
            "12/12 [==============================] - 0s 7ms/step - loss: 0.9465 - accuracy: 0.6359 - val_loss: 1.2290 - val_accuracy: 0.5217 - lr: 1.0000e-05\n",
            "Epoch 191/200\n",
            "12/12 [==============================] - 0s 8ms/step - loss: 0.8739 - accuracy: 0.6576 - val_loss: 1.2290 - val_accuracy: 0.5217 - lr: 1.0000e-05\n",
            "Epoch 192/200\n",
            "12/12 [==============================] - 0s 7ms/step - loss: 0.9321 - accuracy: 0.6386 - val_loss: 1.2292 - val_accuracy: 0.5217 - lr: 1.0000e-05\n",
            "Epoch 193/200\n",
            "12/12 [==============================] - 0s 8ms/step - loss: 0.9104 - accuracy: 0.6345 - val_loss: 1.2290 - val_accuracy: 0.5217 - lr: 1.0000e-05\n",
            "Epoch 194/200\n",
            "12/12 [==============================] - 0s 10ms/step - loss: 0.9176 - accuracy: 0.6223 - val_loss: 1.2288 - val_accuracy: 0.5217 - lr: 1.0000e-05\n",
            "Epoch 195/200\n",
            "12/12 [==============================] - 0s 11ms/step - loss: 0.8724 - accuracy: 0.6671 - val_loss: 1.2277 - val_accuracy: 0.5272 - lr: 1.0000e-05\n",
            "Epoch 196/200\n",
            "12/12 [==============================] - 0s 9ms/step - loss: 0.9534 - accuracy: 0.6304 - val_loss: 1.2271 - val_accuracy: 0.5272 - lr: 1.0000e-05\n",
            "Epoch 197/200\n",
            "12/12 [==============================] - 0s 9ms/step - loss: 0.8853 - accuracy: 0.6359 - val_loss: 1.2275 - val_accuracy: 0.5272 - lr: 1.0000e-05\n",
            "Epoch 198/200\n",
            "12/12 [==============================] - 0s 9ms/step - loss: 0.9038 - accuracy: 0.6332 - val_loss: 1.2272 - val_accuracy: 0.5272 - lr: 1.0000e-05\n",
            "Epoch 199/200\n",
            "12/12 [==============================] - 0s 8ms/step - loss: 0.9188 - accuracy: 0.6481 - val_loss: 1.2271 - val_accuracy: 0.5272 - lr: 1.0000e-05\n",
            "Epoch 200/200\n",
            "12/12 [==============================] - 0s 7ms/step - loss: 0.9096 - accuracy: 0.6535 - val_loss: 1.2276 - val_accuracy: 0.5272 - lr: 1.0000e-05\n"
          ]
        }
      ]
    },
    {
      "cell_type": "code",
      "source": [
        "model_multi = tf.keras.Sequential([\n",
        "    Dense(512, activation=\"relu\"),\n",
        "    BatchNormalization(),\n",
        "    Dropout(0.4),\n",
        "\n",
        "    Dense(256, activation=\"relu\"),\n",
        "    BatchNormalization(),\n",
        "    Dropout(0.3),\n",
        "\n",
        "    Dense(128, activation=\"relu\"),\n",
        "    BatchNormalization(),\n",
        "    Dropout(0.2),\n",
        "\n",
        "    Dense(64, activation=\"relu\"),\n",
        "    BatchNormalization(),\n",
        "\n",
        "    Dense(5, activation=\"softmax\")  # Multi-class\n",
        "])\n"
      ],
      "metadata": {
        "id": "KqfOPnyXzW6B"
      },
      "execution_count": 92,
      "outputs": []
    },
    {
      "cell_type": "code",
      "source": [
        "optimizer = tf.keras.optimizers.SGD(learning_rate=0.01, momentum=0.9)"
      ],
      "metadata": {
        "id": "euM81EhXzu4a"
      },
      "execution_count": 93,
      "outputs": []
    },
    {
      "cell_type": "code",
      "source": [
        "reduce_lr = tf.keras.callbacks.ReduceLROnPlateau(monitor='val_loss',\n",
        "                                                 factor=0.5,\n",
        "                                                 patience=3,\n",
        "                                                 min_lr=1e-5)\n"
      ],
      "metadata": {
        "id": "w12Nv43ozw8x"
      },
      "execution_count": 94,
      "outputs": []
    },
    {
      "cell_type": "code",
      "source": [
        "model_multi.compile(\n",
        "    optimizer='adam',\n",
        "    loss='categorical_crossentropy',  # Use 'sparse_categorical_crossentropy' if labels are not one-hot encoded\n",
        "    metrics=['accuracy']\n",
        ")\n"
      ],
      "metadata": {
        "id": "p07cXwndzymL"
      },
      "execution_count": 96,
      "outputs": []
    },
    {
      "cell_type": "code",
      "source": [
        "import matplotlib.pyplot as plt\n",
        "\n",
        "# Plot training accuracy & validation accuracy\n",
        "plt.figure(figsize=(12, 5))\n",
        "\n",
        "# Accuracy Plot\n",
        "plt.subplot(1, 2, 1)\n",
        "plt.plot(history_bin.history['accuracy'], label=\"Binary Classification\")\n",
        "plt.plot(history_multi.history['accuracy'], label=\"Multi-Class Classification\")\n",
        "plt.xlabel(\"Epochs\")\n",
        "plt.ylabel(\"Accuracy\")\n",
        "plt.legend()\n",
        "plt.title(\"Binary vs Multi-Class: Accuracy Over Epochs\")\n",
        "\n",
        "# Loss Plot\n",
        "plt.subplot(1, 2, 2)\n",
        "plt.plot(history_bin.history['loss'], label=\"Binary Classification\")\n",
        "plt.plot(history_multi.history['loss'], label=\"Multi-Class Classification\")\n",
        "plt.xlabel(\"Epochs\")\n",
        "plt.ylabel(\"Loss\")\n",
        "plt.legend()\n",
        "plt.title(\"Binary vs Multi-Class: Loss Over Epochs\")\n",
        "\n",
        "plt.show()"
      ],
      "metadata": {
        "colab": {
          "base_uri": "https://localhost:8080/",
          "height": 487
        },
        "id": "IggeOvVyz-X_",
        "outputId": "406c6d20-9b7f-413b-f520-523f1407f411"
      },
      "execution_count": 101,
      "outputs": [
        {
          "output_type": "display_data",
          "data": {
            "text/plain": [
              "<Figure size 1200x500 with 2 Axes>"
            ],
            "image/png": "[encoded data removed]"
          },
          "metadata": {}
        }
      ]
    }
  ]
}