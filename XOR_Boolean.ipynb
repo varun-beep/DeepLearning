{
  "nbformat": 4,
  "nbformat_minor": 0,
  "metadata": {
    "colab": {
      "provenance": [],
      "authorship_tag": "ABX9TyOVBwlUouCM/5vdzwdGltEH",
      "include_colab_link": true
    },
    "kernelspec": {
      "name": "python3",
      "display_name": "Python 3"
    },
    "language_info": {
      "name": "python"
    }
  },
  "cells": [
    {
      "cell_type": "markdown",
      "metadata": {
        "id": "view-in-github",
        "colab_type": "text"
      },
      "source": [
        "<a href=\"https://colab.research.google.com/github/varun-beep/DeepLearning/blob/main/XOR_Boolean.ipynb\" target=\"_parent\"><img src=\"https://colab.research.google.com/assets/colab-badge.svg\" alt=\"Open In Colab\"/></a>"
      ]
    },
    {
      "cell_type": "code",
      "execution_count": 15,
      "metadata": {
        "id": "DyTg2ABPoslX"
      },
      "outputs": [],
      "source": [
        "import numpy as np\n",
        "import matplotlib.pyplot as plt\n",
        "import pandas as pd\n",
        "from tensorflow.keras.models import Sequential\n",
        "from tensorflow.keras.layers import Dense\n",
        "from tensorflow.keras.optimizers import Adam"
      ]
    },
    {
      "cell_type": "code",
      "source": [
        "X = np.array([[0, 0], [0, 1], [1, 0], [1, 1]])\n",
        "y = np.array([[0], [1], [1], [0]])"
      ],
      "metadata": {
        "id": "UBc-20RPpWD4"
      },
      "execution_count": 2,
      "outputs": []
    },
    {
      "cell_type": "code",
      "source": [
        "model = Sequential([\n",
        "    Dense(2, input_dim=2, activation='relu'),  # Hidden layer with 2 neurons and ReLU activation\n",
        "    Dense(1, activation='sigmoid')            # Output layer with 1 neuron and sigmoid activation\n",
        "])\n"
      ],
      "metadata": {
        "colab": {
          "base_uri": "https://localhost:8080/"
        },
        "id": "DwlAmC61pZNh",
        "outputId": "8772c2b0-6b0e-4556-a2e3-553f4b647af9"
      },
      "execution_count": 3,
      "outputs": [
        {
          "output_type": "stream",
          "name": "stderr",
          "text": [
            "/usr/local/lib/python3.11/dist-packages/keras/src/layers/core/dense.py:87: UserWarning: Do not pass an `input_shape`/`input_dim` argument to a layer. When using Sequential models, prefer using an `Input(shape)` object as the first layer in the model instead.\n",
            "  super().__init__(activity_regularizer=activity_regularizer, **kwargs)\n"
          ]
        }
      ]
    },
    {
      "cell_type": "code",
      "source": [
        "model.compile(optimizer=Adam(learning_rate=0.01), loss='binary_crossentropy', metrics=['accuracy'])"
      ],
      "metadata": {
        "id": "43d4gxg6pdqF"
      },
      "execution_count": 4,
      "outputs": []
    },
    {
      "cell_type": "code",
      "source": [
        "model.fit(X, y, epochs=1000, verbose=0)  # Training for 1000 epochs with no verbose output"
      ],
      "metadata": {
        "colab": {
          "base_uri": "https://localhost:8080/"
        },
        "id": "1rt0y5ZlpgtT",
        "outputId": "6d9e68bf-10a7-44d9-c671-3afb71d4dbea"
      },
      "execution_count": 5,
      "outputs": [
        {
          "output_type": "execute_result",
          "data": {
            "text/plain": [
              "<keras.src.callbacks.history.History at 0x7e345fdbba50>"
            ]
          },
          "metadata": {},
          "execution_count": 5
        }
      ]
    },
    {
      "cell_type": "code",
      "source": [
        "history = model.fit(X, y, epochs=1000, verbose=0)"
      ],
      "metadata": {
        "id": "RT4gwJb2qPhf"
      },
      "execution_count": 9,
      "outputs": []
    },
    {
      "cell_type": "code",
      "source": [
        "predictions = model.predict(X)\n",
        "print(\"Predictions:\")\n",
        "for i, pred in enumerate(predictions):\n",
        "    print(f\"Input: {X[i]}, Predicted Output: {round(pred[0], 2)}, Expected Output: {y[i][0]}\")"
      ],
      "metadata": {
        "colab": {
          "base_uri": "https://localhost:8080/"
        },
        "id": "sMDwPwYApldR",
        "outputId": "341fed61-c413-40aa-f383-22c2ccfb994a"
      },
      "execution_count": 6,
      "outputs": [
        {
          "output_type": "stream",
          "name": "stdout",
          "text": [
            "\u001b[1m1/1\u001b[0m \u001b[32m━━━━━━━━━━━━━━━━━━━━\u001b[0m\u001b[37m\u001b[0m \u001b[1m0s\u001b[0m 147ms/step\n",
            "Predictions:\n",
            "Input: [0 0], Predicted Output: 0.009999999776482582, Expected Output: 0\n",
            "Input: [0 1], Predicted Output: 1.0, Expected Output: 1\n",
            "Input: [1 0], Predicted Output: 1.0, Expected Output: 1\n",
            "Input: [1 1], Predicted Output: 0.009999999776482582, Expected Output: 0\n"
          ]
        }
      ]
    },
    {
      "cell_type": "code",
      "source": [
        "plt.figure(figsize=(8, 5))\n",
        "predicted_outputs = predictions.flatten()  # Flatten predictions for visualization\n",
        "plt.scatter(range(len(y)), y, label='Expected Output', color='green', s=100)\n",
        "plt.scatter(range(len(predicted_outputs)), predicted_outputs, label='Predicted Output', color='red', s=100)\n",
        "plt.title('Predicted vs Expected Output')\n",
        "plt.xlabel('Input Combination Index')\n",
        "plt.ylabel('Output')\n",
        "plt.legend()\n",
        "plt.grid(True)\n",
        "plt.show()"
      ],
      "metadata": {
        "colab": {
          "base_uri": "https://localhost:8080/",
          "height": 487
        },
        "id": "tSf0AS7Sqmup",
        "outputId": "9d93b4c4-504e-47e6-c50f-2da315dbe87e"
      },
      "execution_count": 12,
      "outputs": [
        {
          "output_type": "display_data",
          "data": {
            "text/plain": [
              "<Figure size 800x500 with 1 Axes>"
            ],
            "image/png": "[encoded data removed]"
          },
          "metadata": {}
        }
      ]
    },
    {
      "cell_type": "code",
      "source": [
        "predictions = model.predict(X).flatten()"
      ],
      "metadata": {
        "colab": {
          "base_uri": "https://localhost:8080/"
        },
        "id": "uwebpKQdrson",
        "outputId": "c142681d-36ae-449b-dd57-a15719300a15"
      },
      "execution_count": 17,
      "outputs": [
        {
          "output_type": "stream",
          "name": "stdout",
          "text": [
            "\u001b[1m1/1\u001b[0m \u001b[32m━━━━━━━━━━━━━━━━━━━━\u001b[0m\u001b[37m\u001b[0m \u001b[1m0s\u001b[0m 20ms/step\n"
          ]
        }
      ]
    },
    {
      "cell_type": "code",
      "source": [
        "table_data = {\n",
        "    \"Input 1\": X[:, 0],\n",
        "    \"Input 2\": X[:, 1],\n",
        "    \"Expected Output\": y.flatten(),\n",
        "    \"Predicted Output\": [round(p, 2) for p in predictions]  # Round predictions to 2 decimal places\n",
        "}\n",
        "\n",
        "df = pd.DataFrame(table_data)\n",
        "\n",
        "# Print the table\n",
        "print(\"Predicted Values Table:\")\n",
        "print(df)"
      ],
      "metadata": {
        "colab": {
          "base_uri": "https://localhost:8080/"
        },
        "id": "N3pVRUrzrPpu",
        "outputId": "95b95fd4-5ff9-4e12-9b59-c82da603e202"
      },
      "execution_count": 18,
      "outputs": [
        {
          "output_type": "stream",
          "name": "stdout",
          "text": [
            "Predicted Values Table:\n",
            "   Input 1  Input 2  Expected Output  Predicted Output\n",
            "0        0        0                0               0.0\n",
            "1        0        1                1               1.0\n",
            "2        1        0                1               1.0\n",
            "3        1        1                0               0.0\n"
          ]
        }
      ]
    },
    {
      "cell_type": "code",
      "source": [
        "# Print model weights\n",
        "print(\"\\nModel Weights:\")\n",
        "for layer in model.layers:\n",
        "    weights, biases = layer.get_weights()\n",
        "    print(f\"Layer: {layer.name}\")\n",
        "    print(f\"Weights:\\n{weights}\")\n",
        "    print(f\"Biases:\\n{biases}\")\n",
        "\n",
        "# Print learning rate\n",
        "learning_rate = model.optimizer.learning_rate.numpy()\n",
        "print(f\"\\nLearning Rate: {learning_rate}\")"
      ],
      "metadata": {
        "colab": {
          "base_uri": "https://localhost:8080/"
        },
        "id": "SRNSLLPGtEUQ",
        "outputId": "073262e5-53b7-4a13-960d-a531885a18e3"
      },
      "execution_count": 21,
      "outputs": [
        {
          "output_type": "stream",
          "name": "stdout",
          "text": [
            "\n",
            "Model Weights:\n",
            "Layer: dense\n",
            "Weights:\n",
            "[[ 2.7287366 -2.625472 ]\n",
            " [-2.7294366  2.624565 ]]\n",
            "Biases:\n",
            "[-1.7295068e-05  1.4449281e-05]\n",
            "Layer: dense_1\n",
            "Weights:\n",
            "[[4.8664365]\n",
            " [5.151603 ]]\n",
            "Biases:\n",
            "[-5.8349223]\n",
            "\n",
            "Learning Rate: 0.009999999776482582\n"
          ]
        }
      ]
    },
    {
      "cell_type": "code",
      "source": [
        "# Extract weights and biases\n",
        "layer_weights, layer_biases = model.layers[0].get_weights()  # Hidden layer\n",
        "output_weights, output_biases = model.layers[1].get_weights()  # Output layer\n",
        "\n",
        "# Convert weights and biases to string for display\n",
        "hidden_weights_str = np.array2string(layer_weights, precision=2, separator=',')\n",
        "hidden_biases_str = np.array2string(layer_biases, precision=2, separator=',')\n",
        "output_weights_str = np.array2string(output_weights, precision=2, separator=',')\n",
        "output_biases_str = np.array2string(output_biases, precision=2, separator=',')\n",
        "\n",
        "# Learning rate\n",
        "learning_rate = model.optimizer.learning_rate.numpy()\n",
        "\n",
        "# Create a DataFrame for display\n",
        "table_data = {\n",
        "    \"Input 1\": X[:, 0],\n",
        "    \"Input 2\": X[:, 1],\n",
        "    \"Expected Output\": y.flatten(),\n",
        "    \"Predicted Output\": [round(float(p), 2) for p in predictions],  # Convert to float before rounding\n",
        "    \"Hidden Weights\": [hidden_weights_str] * len(X),\n",
        "    \"Hidden Biases\": [hidden_biases_str] * len(X),\n",
        "    \"Output Weights\": [output_weights_str] * len(X),\n",
        "    \"Output Biases\": [output_biases_str] * len(X),\n",
        "    \"Learning Rate\": [learning_rate] * len(X)\n",
        "}\n",
        "\n",
        "df = pd.DataFrame(table_data)\n",
        "\n",
        "# Print the table\n",
        "print(\"Predicted Values Table with Weights and Learning Rate:\")\n",
        "print(df)\n"
      ],
      "metadata": {
        "colab": {
          "base_uri": "https://localhost:8080/"
        },
        "id": "u6l-0-gXs7C0",
        "outputId": "56fd4fce-f453-4ac5-f069-4c64dcccd14c"
      },
      "execution_count": 20,
      "outputs": [
        {
          "output_type": "stream",
          "name": "stdout",
          "text": [
            "Predicted Values Table with Weights and Learning Rate:\n",
            "   Input 1  Input 2  Expected Output  Predicted Output  \\\n",
            "0        0        0                0               0.0   \n",
            "1        0        1                1               1.0   \n",
            "2        1        0                1               1.0   \n",
            "3        1        1                0               0.0   \n",
            "\n",
            "                     Hidden Weights          Hidden Biases  \\\n",
            "0  [[ 2.73,-2.63],\\n [-2.73, 2.62]]  [-1.73e-05, 1.44e-05]   \n",
            "1  [[ 2.73,-2.63],\\n [-2.73, 2.62]]  [-1.73e-05, 1.44e-05]   \n",
            "2  [[ 2.73,-2.63],\\n [-2.73, 2.62]]  [-1.73e-05, 1.44e-05]   \n",
            "3  [[ 2.73,-2.63],\\n [-2.73, 2.62]]  [-1.73e-05, 1.44e-05]   \n",
            "\n",
            "       Output Weights Output Biases  Learning Rate  \n",
            "0  [[4.87],\\n [5.15]]       [-5.83]           0.01  \n",
            "1  [[4.87],\\n [5.15]]       [-5.83]           0.01  \n",
            "2  [[4.87],\\n [5.15]]       [-5.83]           0.01  \n",
            "3  [[4.87],\\n [5.15]]       [-5.83]           0.01  \n"
          ]
        }
      ]
    }
  ]
}