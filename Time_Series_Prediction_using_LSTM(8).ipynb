{
  "cells": [
    {
      "cell_type": "markdown",
      "metadata": {
        "id": "view-in-github",
        "colab_type": "text"
      },
      "source": [
        "<a href=\"https://colab.research.google.com/github/varun-beep/DeepLearning/blob/main/Time_Series_Prediction_using_LSTM(8).ipynb\" target=\"_parent\"><img src=\"https://colab.research.google.com/assets/colab-badge.svg\" alt=\"Open In Colab\"/></a>"
      ]
    },
    {
      "cell_type": "code",
      "execution_count": 1,
      "metadata": {
        "id": "EBVfsWPdwzOr"
      },
      "outputs": [],
      "source": [
        "import tensorflow as tf\n",
        "import numpy as np\n",
        "import matplotlib.pyplot as plt\n",
        "from tensorflow.keras.models import Sequential\n",
        "from tensorflow.keras.layers import LSTM, Dense, Conv2D, TimeDistributed, GlobalAveragePooling2D\n",
        "from tensorflow.keras.optimizers import Adam"
      ]
    },
    {
      "cell_type": "markdown",
      "metadata": {
        "id": "pLm2jmUXw3Kw"
      },
      "source": [
        "***Load CIFAR-10 dataset***"
      ]
    },
    {
      "cell_type": "code",
      "execution_count": 2,
      "metadata": {
        "id": "IitbcnwKw7K0",
        "colab": {
          "base_uri": "https://localhost:8080/"
        },
        "outputId": "b71d5648-0b8a-4e6d-ef5c-e0e021e807af"
      },
      "outputs": [
        {
          "output_type": "stream",
          "name": "stdout",
          "text": [
            "Downloading data from https://www.cs.toronto.edu/~kriz/cifar-10-python.tar.gz\n",
            "\u001b[1m170498071/170498071\u001b[0m \u001b[32m━━━━━━━━━━━━━━━━━━━━\u001b[0m\u001b[37m\u001b[0m \u001b[1m5s\u001b[0m 0us/step\n"
          ]
        }
      ],
      "source": [
        "(train_images, _), (test_images, _) = tf.keras.datasets.cifar10.load_data()"
      ]
    },
    {
      "cell_type": "markdown",
      "metadata": {
        "id": "xhkpbEyzxFsU"
      },
      "source": [
        "***Convert to grayscale (Extract brightness)***"
      ]
    },
    {
      "cell_type": "code",
      "execution_count": 3,
      "metadata": {
        "id": "HEei-lD1xDhb"
      },
      "outputs": [],
      "source": [
        "train_gray = np.mean(train_images, axis=-1, keepdims=True) / 255.0\n",
        "test_gray = np.mean(test_images, axis=-1, keepdims=True) / 255.0"
      ]
    },
    {
      "cell_type": "markdown",
      "metadata": {
        "id": "m8JpOkX_xLwe"
      },
      "source": [
        "***Resize images to 16x16 for efficiency***"
      ]
    },
    {
      "cell_type": "code",
      "execution_count": 4,
      "metadata": {
        "id": "PIWcLFncxPZw"
      },
      "outputs": [],
      "source": [
        "train_gray = tf.image.resize(train_gray, (16, 16))\n",
        "test_gray = tf.image.resize(test_gray, (16, 16))"
      ]
    },
    {
      "cell_type": "markdown",
      "metadata": {
        "id": "--NTiCY-xSR0"
      },
      "source": [
        "***Prepare sequences (sequence_length = 5)***"
      ]
    },
    {
      "cell_type": "code",
      "execution_count": 5,
      "metadata": {
        "id": "FpqeNVdvxXxH"
      },
      "outputs": [],
      "source": [
        "sequence_length = 5\n",
        "def create_sequences(data, seq_length):\n",
        "    X, y = [], []\n",
        "    for i in range(len(data) - seq_length):\n",
        "        X.append(data[i:i+seq_length])\n",
        "        y.append(data[i+seq_length])\n",
        "    return np.array(X), np.array(y)\n",
        "\n",
        "X_train, y_train = create_sequences(train_gray, sequence_length)\n",
        "X_test, y_test = create_sequences(test_gray, sequence_length)"
      ]
    },
    {
      "cell_type": "markdown",
      "metadata": {
        "id": "N-O0Vn73xuHj"
      },
      "source": [
        "***Reshape for LSTM input (samples, time steps, height, width, channels)***"
      ]
    },
    {
      "cell_type": "code",
      "execution_count": 6,
      "metadata": {
        "id": "tH6CscoVxwiI"
      },
      "outputs": [],
      "source": [
        "\n",
        "X_train = X_train.reshape(-1, sequence_length, 16, 16, 1)\n",
        "X_test = X_test.reshape(-1, sequence_length, 16, 16, 1)"
      ]
    },
    {
      "cell_type": "markdown",
      "metadata": {
        "id": "o6sdq4Msx2sJ"
      },
      "source": [
        "***Model: TimeDistributed Conv2D + LSTM***"
      ]
    },
    {
      "cell_type": "code",
      "execution_count": 7,
      "metadata": {
        "id": "wzyhBn3Zx70M",
        "colab": {
          "base_uri": "https://localhost:8080/"
        },
        "outputId": "2b2d7229-1640-4e01-f1d1-1fb8a5e0a17f"
      },
      "outputs": [
        {
          "output_type": "stream",
          "name": "stderr",
          "text": [
            "/usr/local/lib/python3.11/dist-packages/keras/src/layers/core/wrapper.py:27: UserWarning: Do not pass an `input_shape`/`input_dim` argument to a layer. When using Sequential models, prefer using an `Input(shape)` object as the first layer in the model instead.\n",
            "  super().__init__(**kwargs)\n"
          ]
        }
      ],
      "source": [
        "model = Sequential([\n",
        "    TimeDistributed(Conv2D(16, (3, 3), activation='relu', padding='same'), input_shape=(sequence_length, 16, 16, 1)),\n",
        "    TimeDistributed(GlobalAveragePooling2D()),\n",
        "    LSTM(32, return_sequences=False),\n",
        "    Dense(256, activation='relu'),  # **FIXED OUTPUT SHAPE**\n",
        "    Dense(256, activation='sigmoid')  # **Corrected to match 16x16 = 256**\n",
        "])"
      ]
    },
    {
      "cell_type": "markdown",
      "metadata": {
        "id": "-tlkhP2pyB05"
      },
      "source": [
        "***Compile Model***"
      ]
    },
    {
      "cell_type": "code",
      "execution_count": 8,
      "metadata": {
        "id": "yeJWIJexyHD_"
      },
      "outputs": [],
      "source": [
        "model.compile(optimizer=Adam(learning_rate=0.001), loss='mse')"
      ]
    },
    {
      "cell_type": "markdown",
      "metadata": {
        "id": "ocIUfiL-yUMv"
      },
      "source": [
        "***Train Model***"
      ]
    },
    {
      "cell_type": "code",
      "execution_count": 9,
      "metadata": {
        "colab": {
          "base_uri": "https://localhost:8080/"
        },
        "id": "TGLCiz7lyeFU",
        "outputId": "d1984c55-4e1e-48e6-b4fd-e10f12a3bf3c"
      },
      "outputs": [
        {
          "output_type": "stream",
          "name": "stdout",
          "text": [
            "Epoch 1/5\n",
            "\u001b[1m1563/1563\u001b[0m \u001b[32m━━━━━━━━━━━━━━━━━━━━\u001b[0m\u001b[37m\u001b[0m \u001b[1m42s\u001b[0m 25ms/step - loss: 0.0527 - val_loss: 0.0523\n",
            "Epoch 2/5\n",
            "\u001b[1m1563/1563\u001b[0m \u001b[32m━━━━━━━━━━━━━━━━━━━━\u001b[0m\u001b[37m\u001b[0m \u001b[1m40s\u001b[0m 25ms/step - loss: 0.0524 - val_loss: 0.0522\n",
            "Epoch 3/5\n",
            "\u001b[1m1563/1563\u001b[0m \u001b[32m━━━━━━━━━━━━━━━━━━━━\u001b[0m\u001b[37m\u001b[0m \u001b[1m41s\u001b[0m 24ms/step - loss: 0.0527 - val_loss: 0.0523\n",
            "Epoch 4/5\n",
            "\u001b[1m1563/1563\u001b[0m \u001b[32m━━━━━━━━━━━━━━━━━━━━\u001b[0m\u001b[37m\u001b[0m \u001b[1m41s\u001b[0m 25ms/step - loss: 0.0526 - val_loss: 0.0522\n",
            "Epoch 5/5\n",
            "\u001b[1m1563/1563\u001b[0m \u001b[32m━━━━━━━━━━━━━━━━━━━━\u001b[0m\u001b[37m\u001b[0m \u001b[1m41s\u001b[0m 24ms/step - loss: 0.0524 - val_loss: 0.0523\n"
          ]
        },
        {
          "output_type": "execute_result",
          "data": {
            "text/plain": [
              "<keras.src.callbacks.history.History at 0x7c69ac2a5e50>"
            ]
          },
          "metadata": {},
          "execution_count": 9
        }
      ],
      "source": [
        "model.fit(X_train, y_train.reshape(-1, 256), epochs=5, batch_size=32, validation_data=(X_test, y_test.reshape(-1, 256)))"
      ]
    },
    {
      "cell_type": "markdown",
      "metadata": {
        "id": "C3X-b3YuyuHL"
      },
      "source": [
        "***Test Model***"
      ]
    },
    {
      "cell_type": "code",
      "execution_count": 10,
      "metadata": {
        "colab": {
          "base_uri": "https://localhost:8080/"
        },
        "id": "-LJgjDPby0c3",
        "outputId": "eb83e20b-e21f-4360-ec71-feff36df1d47"
      },
      "outputs": [
        {
          "output_type": "stream",
          "name": "stdout",
          "text": [
            "\u001b[1m1/1\u001b[0m \u001b[32m━━━━━━━━━━━━━━━━━━━━\u001b[0m\u001b[37m\u001b[0m \u001b[1m0s\u001b[0m 258ms/step\n"
          ]
        }
      ],
      "source": [
        "predicted_brightness = model.predict(X_test[:1]).reshape(16, 16)"
      ]
    },
    {
      "cell_type": "markdown",
      "metadata": {
        "id": "CC_LRvRJy37B"
      },
      "source": [
        "***Plot Actual vs Predicted Brightness***"
      ]
    },
    {
      "cell_type": "code",
      "execution_count": 11,
      "metadata": {
        "colab": {
          "base_uri": "https://localhost:8080/",
          "height": 384
        },
        "id": "lZ9Trb4Dy-c_",
        "outputId": "0c655cd4-b85d-4742-ba92-5b0254dd0bb8"
      },
      "outputs": [
        {
          "output_type": "execute_result",
          "data": {
            "text/plain": [
              "(np.float64(-0.5), np.float64(15.5), np.float64(15.5), np.float64(-0.5))"
            ]
          },
          "metadata": {},
          "execution_count": 11
        },
        {
          "output_type": "display_data",
          "data": {
            "text/plain": [
              "<Figure size 1000x400 with 1 Axes>"
            ],
            "image/png": "[encoded data removed]"
          },
          "metadata": {}
        }
      ],
      "source": [
        "plt.figure(figsize=(10, 4))\n",
        "plt.subplot(1, 2, 1)\n",
        "plt.imshow(y_test[0].reshape(16, 16), cmap='gray')\n",
        "plt.title(\"Actual Brightness\")\n",
        "plt.axis(\"off\")"
      ]
    },
    {
      "cell_type": "code",
      "execution_count": 12,
      "metadata": {
        "colab": {
          "base_uri": "https://localhost:8080/",
          "height": 284
        },
        "id": "DsLW28sWzCRT",
        "outputId": "d47a9352-5a6d-4bfd-85d4-9d3dfb38203e"
      },
      "outputs": [
        {
          "output_type": "display_data",
          "data": {
            "text/plain": [
              "<Figure size 640x480 with 1 Axes>"
            ],
            "image/png": "[encoded data removed]"
          },
          "metadata": {}
        }
      ],
      "source": [
        "plt.subplot(1, 2, 2)\n",
        "plt.imshow(predicted_brightness, cmap='gray')\n",
        "plt.title(\"Predicted Brightness\")\n",
        "plt.axis(\"off\")\n",
        "\n",
        "plt.show()"
      ]
    }
  ],
  "metadata": {
    "colab": {
      "provenance": [],
      "include_colab_link": true
    },
    "kernelspec": {
      "display_name": "Python 3",
      "name": "python3"
    },
    "language_info": {
      "name": "python",
      "version": "3.12.6"
    }
  },
  "nbformat": 4,
  "nbformat_minor": 0
}